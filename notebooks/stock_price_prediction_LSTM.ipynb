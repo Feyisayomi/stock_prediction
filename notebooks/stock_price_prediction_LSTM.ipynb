{
 "cells": [
  {
   "cell_type": "code",
   "execution_count": 1,
   "metadata": {},
   "outputs": [],
   "source": [
    "#import Libraries\n",
    "import pandas as pd\n",
    "import yfinance as yf\n",
    "import numpy as np\n",
    "from datetime import date\n",
    "import matplotlib.pyplot as plt\n",
    "import math\n",
    "from sklearn.preprocessing import StandardScaler\n",
    "from keras.models import Sequential\n",
    "from keras.layers import Dense, LSTM, Dropout"
   ]
  },
  {
   "cell_type": "markdown",
   "metadata": {},
   "source": [
    "# Playground"
   ]
  },
  {
   "cell_type": "code",
   "execution_count": 2,
   "metadata": {
    "scrolled": true
   },
   "outputs": [
    {
     "data": {
      "text/plain": [
       "yfinance.Ticker object <AAPL>"
      ]
     },
     "execution_count": 2,
     "metadata": {},
     "output_type": "execute_result"
    }
   ],
   "source": [
    "apple = yf.Ticker(\"aapl\")\n",
    "apple"
   ]
  },
  {
   "cell_type": "code",
   "execution_count": 3,
   "metadata": {
    "scrolled": false
   },
   "outputs": [
    {
     "data": {
      "text/html": [
       "<div>\n",
       "<style scoped>\n",
       "    .dataframe tbody tr th:only-of-type {\n",
       "        vertical-align: middle;\n",
       "    }\n",
       "\n",
       "    .dataframe tbody tr th {\n",
       "        vertical-align: top;\n",
       "    }\n",
       "\n",
       "    .dataframe thead th {\n",
       "        text-align: right;\n",
       "    }\n",
       "</style>\n",
       "<table border=\"1\" class=\"dataframe\">\n",
       "  <thead>\n",
       "    <tr style=\"text-align: right;\">\n",
       "      <th></th>\n",
       "      <th>Open</th>\n",
       "      <th>High</th>\n",
       "      <th>Low</th>\n",
       "      <th>Close</th>\n",
       "      <th>Volume</th>\n",
       "      <th>Dividends</th>\n",
       "      <th>Stock Splits</th>\n",
       "    </tr>\n",
       "    <tr>\n",
       "      <th>Date</th>\n",
       "      <th></th>\n",
       "      <th></th>\n",
       "      <th></th>\n",
       "      <th></th>\n",
       "      <th></th>\n",
       "      <th></th>\n",
       "      <th></th>\n",
       "    </tr>\n",
       "  </thead>\n",
       "  <tbody>\n",
       "    <tr>\n",
       "      <th>2021-05-25</th>\n",
       "      <td>127.820000</td>\n",
       "      <td>128.320007</td>\n",
       "      <td>126.320000</td>\n",
       "      <td>126.900002</td>\n",
       "      <td>72009500</td>\n",
       "      <td>0.0</td>\n",
       "      <td>0.0</td>\n",
       "    </tr>\n",
       "    <tr>\n",
       "      <th>2021-05-26</th>\n",
       "      <td>126.959999</td>\n",
       "      <td>127.389999</td>\n",
       "      <td>126.419998</td>\n",
       "      <td>126.849998</td>\n",
       "      <td>56575900</td>\n",
       "      <td>0.0</td>\n",
       "      <td>0.0</td>\n",
       "    </tr>\n",
       "    <tr>\n",
       "      <th>2021-05-27</th>\n",
       "      <td>126.440002</td>\n",
       "      <td>127.639999</td>\n",
       "      <td>125.080002</td>\n",
       "      <td>125.279999</td>\n",
       "      <td>94625600</td>\n",
       "      <td>0.0</td>\n",
       "      <td>0.0</td>\n",
       "    </tr>\n",
       "    <tr>\n",
       "      <th>2021-05-28</th>\n",
       "      <td>125.570000</td>\n",
       "      <td>125.800003</td>\n",
       "      <td>124.550003</td>\n",
       "      <td>124.610001</td>\n",
       "      <td>71311100</td>\n",
       "      <td>0.0</td>\n",
       "      <td>0.0</td>\n",
       "    </tr>\n",
       "    <tr>\n",
       "      <th>2021-06-01</th>\n",
       "      <td>125.080002</td>\n",
       "      <td>125.349998</td>\n",
       "      <td>123.940002</td>\n",
       "      <td>124.279999</td>\n",
       "      <td>67500600</td>\n",
       "      <td>0.0</td>\n",
       "      <td>0.0</td>\n",
       "    </tr>\n",
       "  </tbody>\n",
       "</table>\n",
       "</div>"
      ],
      "text/plain": [
       "                  Open        High         Low       Close    Volume  \\\n",
       "Date                                                                   \n",
       "2021-05-25  127.820000  128.320007  126.320000  126.900002  72009500   \n",
       "2021-05-26  126.959999  127.389999  126.419998  126.849998  56575900   \n",
       "2021-05-27  126.440002  127.639999  125.080002  125.279999  94625600   \n",
       "2021-05-28  125.570000  125.800003  124.550003  124.610001  71311100   \n",
       "2021-06-01  125.080002  125.349998  123.940002  124.279999  67500600   \n",
       "\n",
       "            Dividends  Stock Splits  \n",
       "Date                                 \n",
       "2021-05-25        0.0           0.0  \n",
       "2021-05-26        0.0           0.0  \n",
       "2021-05-27        0.0           0.0  \n",
       "2021-05-28        0.0           0.0  \n",
       "2021-06-01        0.0           0.0  "
      ]
     },
     "execution_count": 3,
     "metadata": {},
     "output_type": "execute_result"
    }
   ],
   "source": [
    "#Get historical data\n",
    "apple_data = apple.history(start =\"2015-01-01\", end=date.today(), interval=\"1d\")\n",
    "apple_data.tail()"
   ]
  },
  {
   "cell_type": "markdown",
   "metadata": {},
   "source": [
    "## Yfinance Tickers symbol\n",
    "Apple Inc: AAPL\n",
    "\n",
    "NIO Inc: NIO\n",
    "\n",
    "Bayerische Motoren Werke Aktiengesellschaft : BMW.DE\n",
    "\n",
    "Volkswagen AG : VOW.DE\n",
    "\n",
    "Daimeler AG: DAI.DE\n",
    "\n",
    "Siemens Aktiengesellschaft : SIE.DE\n",
    "\n",
    "\n",
    "\n"
   ]
  },
  {
   "cell_type": "markdown",
   "metadata": {},
   "source": [
    " ## Data Visualization"
   ]
  },
  {
   "cell_type": "code",
   "execution_count": 4,
   "metadata": {},
   "outputs": [
    {
     "data": {
      "image/png": "[encoded data removed]",
      "text/plain": [
       "<Figure size 1224x144 with 1 Axes>"
      ]
     },
     "metadata": {
      "needs_background": "light"
     },
     "output_type": "display_data"
    },
    {
     "data": {
      "image/png": "[encoded data removed]",
      "text/plain": [
       "<Figure size 1224x144 with 1 Axes>"
      ]
     },
     "metadata": {
      "needs_background": "light"
     },
     "output_type": "display_data"
    },
    {
     "data": {
      "image/png": "[encoded data removed]",
      "text/plain": [
       "<Figure size 1224x144 with 1 Axes>"
      ]
     },
     "metadata": {
      "needs_background": "light"
     },
     "output_type": "display_data"
    },
    {
     "data": {
      "image/png": "[encoded data removed]",
      "text/plain": [
       "<Figure size 1224x144 with 1 Axes>"
      ]
     },
     "metadata": {
      "needs_background": "light"
     },
     "output_type": "display_data"
    },
    {
     "data": {
      "image/png": "[encoded data removed]",
      "text/plain": [
       "<Figure size 1224x144 with 1 Axes>"
      ]
     },
     "metadata": {
      "needs_background": "light"
     },
     "output_type": "display_data"
    },
    {
     "data": {
      "image/png": "[encoded data removed]",
      "text/plain": [
       "<Figure size 1224x144 with 1 Axes>"
      ]
     },
     "metadata": {
      "needs_background": "light"
     },
     "output_type": "display_data"
    },
    {
     "data": {
      "image/png": "[encoded data removed]",
      "text/plain": [
       "<Figure size 1224x144 with 1 Axes>"
      ]
     },
     "metadata": {
      "needs_background": "light"
     },
     "output_type": "display_data"
    }
   ],
   "source": [
    "%matplotlib inline\n",
    "\n",
    "for col in apple_data.columns:\n",
    "    color=\"orange\" if col == \"Close\" else \"blue\"\n",
    "    apple_data[col].plot(figsize=(17, 2), color=color)\n",
    "    plt.title(col)\n",
    "    plt.show()"
   ]
  },
  {
   "cell_type": "markdown",
   "metadata": {},
   "source": [
    "## Data Preprocessing"
   ]
  },
  {
   "cell_type": "code",
   "execution_count": 5,
   "metadata": {
    "scrolled": true
   },
   "outputs": [
    {
     "data": {
      "text/html": [
       "<div>\n",
       "<style scoped>\n",
       "    .dataframe tbody tr th:only-of-type {\n",
       "        vertical-align: middle;\n",
       "    }\n",
       "\n",
       "    .dataframe tbody tr th {\n",
       "        vertical-align: top;\n",
       "    }\n",
       "\n",
       "    .dataframe thead th {\n",
       "        text-align: right;\n",
       "    }\n",
       "</style>\n",
       "<table border=\"1\" class=\"dataframe\">\n",
       "  <thead>\n",
       "    <tr style=\"text-align: right;\">\n",
       "      <th></th>\n",
       "      <th>Open</th>\n",
       "      <th>High</th>\n",
       "      <th>Low</th>\n",
       "      <th>Close</th>\n",
       "      <th>Volume</th>\n",
       "      <th>Dividends</th>\n",
       "      <th>Stock Splits</th>\n",
       "    </tr>\n",
       "  </thead>\n",
       "  <tbody>\n",
       "    <tr>\n",
       "      <th>count</th>\n",
       "      <td>1615.000000</td>\n",
       "      <td>1615.000000</td>\n",
       "      <td>1615.000000</td>\n",
       "      <td>1615.000000</td>\n",
       "      <td>1.615000e+03</td>\n",
       "      <td>1615.000000</td>\n",
       "      <td>1615.000000</td>\n",
       "    </tr>\n",
       "    <tr>\n",
       "      <th>mean</th>\n",
       "      <td>51.798273</td>\n",
       "      <td>52.353664</td>\n",
       "      <td>51.236364</td>\n",
       "      <td>51.814046</td>\n",
       "      <td>1.430782e+08</td>\n",
       "      <td>0.002711</td>\n",
       "      <td>0.002477</td>\n",
       "    </tr>\n",
       "    <tr>\n",
       "      <th>std</th>\n",
       "      <td>31.889019</td>\n",
       "      <td>32.306010</td>\n",
       "      <td>31.397209</td>\n",
       "      <td>31.857279</td>\n",
       "      <td>7.031557e+07</td>\n",
       "      <td>0.021527</td>\n",
       "      <td>0.099535</td>\n",
       "    </tr>\n",
       "    <tr>\n",
       "      <th>min</th>\n",
       "      <td>21.019165</td>\n",
       "      <td>21.409186</td>\n",
       "      <td>20.895382</td>\n",
       "      <td>21.098566</td>\n",
       "      <td>4.544800e+07</td>\n",
       "      <td>0.000000</td>\n",
       "      <td>0.000000</td>\n",
       "    </tr>\n",
       "    <tr>\n",
       "      <th>25%</th>\n",
       "      <td>28.182274</td>\n",
       "      <td>28.406262</td>\n",
       "      <td>27.954175</td>\n",
       "      <td>28.196112</td>\n",
       "      <td>9.506960e+07</td>\n",
       "      <td>0.000000</td>\n",
       "      <td>0.000000</td>\n",
       "    </tr>\n",
       "    <tr>\n",
       "      <th>50%</th>\n",
       "      <td>41.367637</td>\n",
       "      <td>41.678358</td>\n",
       "      <td>40.955157</td>\n",
       "      <td>41.300484</td>\n",
       "      <td>1.255220e+08</td>\n",
       "      <td>0.000000</td>\n",
       "      <td>0.000000</td>\n",
       "    </tr>\n",
       "    <tr>\n",
       "      <th>75%</th>\n",
       "      <td>58.522235</td>\n",
       "      <td>59.512202</td>\n",
       "      <td>57.941992</td>\n",
       "      <td>58.672216</td>\n",
       "      <td>1.693016e+08</td>\n",
       "      <td>0.000000</td>\n",
       "      <td>0.000000</td>\n",
       "    </tr>\n",
       "    <tr>\n",
       "      <th>max</th>\n",
       "      <td>143.142611</td>\n",
       "      <td>144.627854</td>\n",
       "      <td>140.919703</td>\n",
       "      <td>142.704010</td>\n",
       "      <td>6.488252e+08</td>\n",
       "      <td>0.220000</td>\n",
       "      <td>4.000000</td>\n",
       "    </tr>\n",
       "  </tbody>\n",
       "</table>\n",
       "</div>"
      ],
      "text/plain": [
       "              Open         High          Low        Close        Volume  \\\n",
       "count  1615.000000  1615.000000  1615.000000  1615.000000  1.615000e+03   \n",
       "mean     51.798273    52.353664    51.236364    51.814046  1.430782e+08   \n",
       "std      31.889019    32.306010    31.397209    31.857279  7.031557e+07   \n",
       "min      21.019165    21.409186    20.895382    21.098566  4.544800e+07   \n",
       "25%      28.182274    28.406262    27.954175    28.196112  9.506960e+07   \n",
       "50%      41.367637    41.678358    40.955157    41.300484  1.255220e+08   \n",
       "75%      58.522235    59.512202    57.941992    58.672216  1.693016e+08   \n",
       "max     143.142611   144.627854   140.919703   142.704010  6.488252e+08   \n",
       "\n",
       "         Dividends  Stock Splits  \n",
       "count  1615.000000   1615.000000  \n",
       "mean      0.002711      0.002477  \n",
       "std       0.021527      0.099535  \n",
       "min       0.000000      0.000000  \n",
       "25%       0.000000      0.000000  \n",
       "50%       0.000000      0.000000  \n",
       "75%       0.000000      0.000000  \n",
       "max       0.220000      4.000000  "
      ]
     },
     "execution_count": 5,
     "metadata": {},
     "output_type": "execute_result"
    }
   ],
   "source": [
    "apple_data.describe()"
   ]
  },
  {
   "cell_type": "code",
   "execution_count": 6,
   "metadata": {},
   "outputs": [
    {
     "data": {
      "text/plain": [
       "<bound method DataFrame.info of                   Open        High         Low       Close     Volume  \\\n",
       "Date                                                                    \n",
       "2014-12-31   25.611516   25.681889   25.019014   25.057606  165613600   \n",
       "2015-01-02   25.286885   25.298236   24.369756   24.819241  212818400   \n",
       "2015-01-05   24.583150   24.664874   23.929355   24.120045  257142000   \n",
       "2015-01-06   24.185883   24.387924   23.752289   24.122320  263188400   \n",
       "2015-01-07   24.335706   24.562718   24.222200   24.460564  160423600   \n",
       "...                ...         ...         ...         ...        ...   \n",
       "2021-05-25  127.820000  128.320007  126.320000  126.900002   72009500   \n",
       "2021-05-26  126.959999  127.389999  126.419998  126.849998   56575900   \n",
       "2021-05-27  126.440002  127.639999  125.080002  125.279999   94625600   \n",
       "2021-05-28  125.570000  125.800003  124.550003  124.610001   71311100   \n",
       "2021-06-01  125.080002  125.349998  123.940002  124.279999   67500600   \n",
       "\n",
       "            Dividends  Stock Splits  \n",
       "Date                                 \n",
       "2014-12-31        0.0           0.0  \n",
       "2015-01-02        0.0           0.0  \n",
       "2015-01-05        0.0           0.0  \n",
       "2015-01-06        0.0           0.0  \n",
       "2015-01-07        0.0           0.0  \n",
       "...               ...           ...  \n",
       "2021-05-25        0.0           0.0  \n",
       "2021-05-26        0.0           0.0  \n",
       "2021-05-27        0.0           0.0  \n",
       "2021-05-28        0.0           0.0  \n",
       "2021-06-01        0.0           0.0  \n",
       "\n",
       "[1615 rows x 7 columns]>"
      ]
     },
     "execution_count": 6,
     "metadata": {},
     "output_type": "execute_result"
    }
   ],
   "source": [
    "apple_data.info"
   ]
  },
  {
   "cell_type": "markdown",
   "metadata": {},
   "source": [
    "### Variables for training"
   ]
  },
  {
   "cell_type": "code",
   "execution_count": 7,
   "metadata": {},
   "outputs": [
    {
     "data": {
      "text/plain": [
       "['Open', 'High', 'Low', 'Close', 'Volume']"
      ]
     },
     "execution_count": 7,
     "metadata": {},
     "output_type": "execute_result"
    }
   ],
   "source": [
    "cols = list(apple_data)[0:5]\n",
    "cols"
   ]
  },
  {
   "cell_type": "code",
   "execution_count": 8,
   "metadata": {},
   "outputs": [],
   "source": [
    "df = apple_data[cols].astype(float)"
   ]
  },
  {
   "cell_type": "code",
   "execution_count": 9,
   "metadata": {
    "scrolled": true
   },
   "outputs": [
    {
     "data": {
      "text/plain": [
       "<AxesSubplot:xlabel='Date'>"
      ]
     },
     "execution_count": 9,
     "metadata": {},
     "output_type": "execute_result"
    },
    {
     "data": {
      "image/png": "[encoded data removed]",
      "text/plain": [
       "<Figure size 432x288 with 1 Axes>"
      ]
     },
     "metadata": {
      "needs_background": "light"
     },
     "output_type": "display_data"
    }
   ],
   "source": [
    "df.plot.line()"
   ]
  },
  {
   "cell_type": "markdown",
   "metadata": {},
   "source": [
    "### Normalizing the Dataset with Standard Scaler"
   ]
  },
  {
   "cell_type": "code",
   "execution_count": 10,
   "metadata": {},
   "outputs": [
    {
     "data": {
      "text/html": [
       "<div>\n",
       "<style scoped>\n",
       "    .dataframe tbody tr th:only-of-type {\n",
       "        vertical-align: middle;\n",
       "    }\n",
       "\n",
       "    .dataframe tbody tr th {\n",
       "        vertical-align: top;\n",
       "    }\n",
       "\n",
       "    .dataframe thead th {\n",
       "        text-align: right;\n",
       "    }\n",
       "</style>\n",
       "<table border=\"1\" class=\"dataframe\">\n",
       "  <thead>\n",
       "    <tr style=\"text-align: right;\">\n",
       "      <th></th>\n",
       "      <th>Open</th>\n",
       "      <th>High</th>\n",
       "      <th>Low</th>\n",
       "      <th>Close</th>\n",
       "      <th>Volume</th>\n",
       "    </tr>\n",
       "    <tr>\n",
       "      <th>Date</th>\n",
       "      <th></th>\n",
       "      <th></th>\n",
       "      <th></th>\n",
       "      <th></th>\n",
       "      <th></th>\n",
       "    </tr>\n",
       "  </thead>\n",
       "  <tbody>\n",
       "    <tr>\n",
       "      <th>2021-05-25</th>\n",
       "      <td>127.820000</td>\n",
       "      <td>128.320007</td>\n",
       "      <td>126.320000</td>\n",
       "      <td>126.900002</td>\n",
       "      <td>72009500.0</td>\n",
       "    </tr>\n",
       "    <tr>\n",
       "      <th>2021-05-26</th>\n",
       "      <td>126.959999</td>\n",
       "      <td>127.389999</td>\n",
       "      <td>126.419998</td>\n",
       "      <td>126.849998</td>\n",
       "      <td>56575900.0</td>\n",
       "    </tr>\n",
       "    <tr>\n",
       "      <th>2021-05-27</th>\n",
       "      <td>126.440002</td>\n",
       "      <td>127.639999</td>\n",
       "      <td>125.080002</td>\n",
       "      <td>125.279999</td>\n",
       "      <td>94625600.0</td>\n",
       "    </tr>\n",
       "    <tr>\n",
       "      <th>2021-05-28</th>\n",
       "      <td>125.570000</td>\n",
       "      <td>125.800003</td>\n",
       "      <td>124.550003</td>\n",
       "      <td>124.610001</td>\n",
       "      <td>71311100.0</td>\n",
       "    </tr>\n",
       "    <tr>\n",
       "      <th>2021-06-01</th>\n",
       "      <td>125.080002</td>\n",
       "      <td>125.349998</td>\n",
       "      <td>123.940002</td>\n",
       "      <td>124.279999</td>\n",
       "      <td>67500600.0</td>\n",
       "    </tr>\n",
       "  </tbody>\n",
       "</table>\n",
       "</div>"
      ],
      "text/plain": [
       "                  Open        High         Low       Close      Volume\n",
       "Date                                                                  \n",
       "2021-05-25  127.820000  128.320007  126.320000  126.900002  72009500.0\n",
       "2021-05-26  126.959999  127.389999  126.419998  126.849998  56575900.0\n",
       "2021-05-27  126.440002  127.639999  125.080002  125.279999  94625600.0\n",
       "2021-05-28  125.570000  125.800003  124.550003  124.610001  71311100.0\n",
       "2021-06-01  125.080002  125.349998  123.940002  124.279999  67500600.0"
      ]
     },
     "execution_count": 10,
     "metadata": {},
     "output_type": "execute_result"
    }
   ],
   "source": [
    "df.tail()"
   ]
  },
  {
   "cell_type": "code",
   "execution_count": 11,
   "metadata": {},
   "outputs": [],
   "source": [
    "scaler = StandardScaler()\n",
    "scaler = scaler.fit(df)\n",
    "df_scaled = scaler.transform(df)"
   ]
  },
  {
   "cell_type": "markdown",
   "metadata": {},
   "source": [
    "### Sequencing the Dataset"
   ]
  },
  {
   "cell_type": "code",
   "execution_count": 12,
   "metadata": {},
   "outputs": [],
   "source": [
    "X_train = []\n",
    "y_train = []"
   ]
  },
  {
   "cell_type": "code",
   "execution_count": 13,
   "metadata": {},
   "outputs": [],
   "source": [
    "n_future = 1\n",
    "n_lookback = 14"
   ]
  },
  {
   "cell_type": "code",
   "execution_count": 14,
   "metadata": {},
   "outputs": [],
   "source": [
    "for i in range(n_lookback, len(df_scaled) - n_future + 1):\n",
    "    X_train.append(df_scaled[i - n_lookback:i, 0:df_scaled.shape[1]])\n",
    "    y_train.append(df_scaled[i + n_future - 1:i + n_future, 0])"
   ]
  },
  {
   "cell_type": "code",
   "execution_count": 15,
   "metadata": {},
   "outputs": [],
   "source": [
    "X_train, y_train = np.array(X_train), np.array(y_train)"
   ]
  },
  {
   "cell_type": "code",
   "execution_count": 16,
   "metadata": {
    "scrolled": false
   },
   "outputs": [
    {
     "name": "stdout",
     "output_type": "stream",
     "text": [
      "X_train shape:, (1601, 14, 5)\n",
      "y_train shape:, (1601, 1)\n"
     ]
    }
   ],
   "source": [
    "print(f\"X_train shape:, {X_train.shape}\")\n",
    "print(f\"y_train shape:, {y_train.shape}\")"
   ]
  },
  {
   "cell_type": "code",
   "execution_count": 17,
   "metadata": {
    "scrolled": true
   },
   "outputs": [
    {
     "data": {
      "text/plain": [
       "array([[[-0.82143852, -0.82585363, -0.83528032, -0.84014482,\n",
       "          0.32058882],\n",
       "        [-0.83162169, -0.83773289, -0.85596558, -0.84762942,\n",
       "          0.99212461],\n",
       "        [-0.85369679, -0.85734405, -0.86999667, -0.86958397,\n",
       "          1.62267243],\n",
       "        [-0.86615843, -0.86591942, -0.87563797, -0.86951252,\n",
       "          1.70868856],\n",
       "        [-0.86145872, -0.86050716, -0.86066668, -0.85889177,\n",
       "          0.24675585],\n",
       "        [-0.84700286, -0.83274201, -0.84620141, -0.82938123,\n",
       "          1.34264772],\n",
       "        [-0.82250673, -0.82501016, -0.83528037, -0.82852599,\n",
       "          1.02028641],\n",
       "        [-0.82300515, -0.82936818, -0.84547822, -0.84819957,\n",
       "          0.78989909],\n",
       "        [-0.83133682, -0.82817327, -0.84468271, -0.84128537,\n",
       "          1.78236789],\n",
       "        [-0.84835588, -0.84441037, -0.8476479 , -0.84427898,\n",
       "          0.75039631],\n",
       "        [-0.84152005, -0.84743323, -0.86095615, -0.86552114,\n",
       "          1.37960689],\n",
       "        [-0.86266946, -0.86486535, -0.87151571, -0.87143746,\n",
       "          2.43229153],\n",
       "        [-0.85690123, -0.85509468, -0.86211313, -0.85197745,\n",
       "          0.80407388],\n",
       "        [-0.84899698, -0.84040396, -0.8493116 , -0.84606119,\n",
       "          0.72873295]],\n",
       "\n",
       "       [[-0.83162169, -0.83773289, -0.85596558, -0.84762942,\n",
       "          0.99212461],\n",
       "        [-0.85369679, -0.85734405, -0.86999667, -0.86958397,\n",
       "          1.62267243],\n",
       "        [-0.86615843, -0.86591942, -0.87563797, -0.86951252,\n",
       "          1.70868856],\n",
       "        [-0.86145872, -0.86050716, -0.86066668, -0.85889177,\n",
       "          0.24675585],\n",
       "        [-0.84700286, -0.83274201, -0.84620141, -0.82938123,\n",
       "          1.34264772],\n",
       "        [-0.82250673, -0.82501016, -0.83528037, -0.82852599,\n",
       "          1.02028641],\n",
       "        [-0.82300515, -0.82936818, -0.84547822, -0.84819957,\n",
       "          0.78989909],\n",
       "        [-0.83133682, -0.82817327, -0.84468271, -0.84128537,\n",
       "          1.78236789],\n",
       "        [-0.84835588, -0.84441037, -0.8476479 , -0.84427898,\n",
       "          0.75039631],\n",
       "        [-0.84152005, -0.84743323, -0.86095615, -0.86552114,\n",
       "          1.37960689],\n",
       "        [-0.86266946, -0.86486535, -0.87151571, -0.87143746,\n",
       "          2.43229153],\n",
       "        [-0.85690123, -0.85509468, -0.86211313, -0.85197745,\n",
       "          0.80407388],\n",
       "        [-0.84899698, -0.84040396, -0.8493116 , -0.84606119,\n",
       "          0.72873295],\n",
       "        [-0.83966841, -0.8304929 , -0.83882435, -0.82574607,\n",
       "          1.02580042]],\n",
       "\n",
       "       [[-0.85369679, -0.85734405, -0.86999667, -0.86958397,\n",
       "          1.62267243],\n",
       "        [-0.86615843, -0.86591942, -0.87563797, -0.86951252,\n",
       "          1.70868856],\n",
       "        [-0.86145872, -0.86050716, -0.86066668, -0.85889177,\n",
       "          0.24675585],\n",
       "        [-0.84700286, -0.83274201, -0.84620141, -0.82938123,\n",
       "          1.34264772],\n",
       "        [-0.82250673, -0.82501016, -0.83528037, -0.82852599,\n",
       "          1.02028641],\n",
       "        [-0.82300515, -0.82936818, -0.84547822, -0.84819957,\n",
       "          0.78989909],\n",
       "        [-0.83133682, -0.82817327, -0.84468271, -0.84128537,\n",
       "          1.78236789],\n",
       "        [-0.84835588, -0.84441037, -0.8476479 , -0.84427898,\n",
       "          0.75039631],\n",
       "        [-0.84152005, -0.84743323, -0.86095615, -0.86552114,\n",
       "          1.37960689],\n",
       "        [-0.86266946, -0.86486535, -0.87151571, -0.87143746,\n",
       "          2.43229153],\n",
       "        [-0.85690123, -0.85509468, -0.86211313, -0.85197745,\n",
       "          0.80407388],\n",
       "        [-0.84899698, -0.84040396, -0.8493116 , -0.84606119,\n",
       "          0.72873295],\n",
       "        [-0.83966841, -0.8304929 , -0.83882435, -0.82574607,\n",
       "          1.02580042],\n",
       "        [-0.82514143, -0.82149557, -0.82573334, -0.82161167,\n",
       "          0.60860286]],\n",
       "\n",
       "       [[-0.86615843, -0.86591942, -0.87563797, -0.86951252,\n",
       "          1.70868856],\n",
       "        [-0.86145872, -0.86050716, -0.86066668, -0.85889177,\n",
       "          0.24675585],\n",
       "        [-0.84700286, -0.83274201, -0.84620141, -0.82938123,\n",
       "          1.34264772],\n",
       "        [-0.82250673, -0.82501016, -0.83528037, -0.82852599,\n",
       "          1.02028641],\n",
       "        [-0.82300515, -0.82936818, -0.84547822, -0.84819957,\n",
       "          0.78989909],\n",
       "        [-0.83133682, -0.82817327, -0.84468271, -0.84128537,\n",
       "          1.78236789],\n",
       "        [-0.84835588, -0.84441037, -0.8476479 , -0.84427898,\n",
       "          0.75039631],\n",
       "        [-0.84152005, -0.84743323, -0.86095615, -0.86552114,\n",
       "          1.37960689],\n",
       "        [-0.86266946, -0.86486535, -0.87151571, -0.87143746,\n",
       "          2.43229153],\n",
       "        [-0.85690123, -0.85509468, -0.86211313, -0.85197745,\n",
       "          0.80407388],\n",
       "        [-0.84899698, -0.84040396, -0.8493116 , -0.84606119,\n",
       "          0.72873295],\n",
       "        [-0.83966841, -0.8304929 , -0.83882435, -0.82574607,\n",
       "          1.02580042],\n",
       "        [-0.82514143, -0.82149557, -0.82573334, -0.82161167,\n",
       "          0.60860286],\n",
       "        [-0.81488724, -0.81720785, -0.81654799, -0.82075638,\n",
       "          1.12928608]],\n",
       "\n",
       "       [[-0.86145872, -0.86050716, -0.86066668, -0.85889177,\n",
       "          0.24675585],\n",
       "        [-0.84700286, -0.83274201, -0.84620141, -0.82938123,\n",
       "          1.34264772],\n",
       "        [-0.82250673, -0.82501016, -0.83528037, -0.82852599,\n",
       "          1.02028641],\n",
       "        [-0.82300515, -0.82936818, -0.84547822, -0.84819957,\n",
       "          0.78989909],\n",
       "        [-0.83133682, -0.82817327, -0.84468271, -0.84128537,\n",
       "          1.78236789],\n",
       "        [-0.84835588, -0.84441037, -0.8476479 , -0.84427898,\n",
       "          0.75039631],\n",
       "        [-0.84152005, -0.84743323, -0.86095615, -0.86552114,\n",
       "          1.37960689],\n",
       "        [-0.86266946, -0.86486535, -0.87151571, -0.87143746,\n",
       "          2.43229153],\n",
       "        [-0.85690123, -0.85509468, -0.86211313, -0.85197745,\n",
       "          0.80407388],\n",
       "        [-0.84899698, -0.84040396, -0.8493116 , -0.84606119,\n",
       "          0.72873295],\n",
       "        [-0.83966841, -0.8304929 , -0.83882435, -0.82574607,\n",
       "          1.02580042],\n",
       "        [-0.82514143, -0.82149557, -0.82573334, -0.82161167,\n",
       "          0.60860286],\n",
       "        [-0.81488724, -0.81720785, -0.81654799, -0.82075638,\n",
       "          1.12928608],\n",
       "        [-0.82428686, -0.83042243, -0.84381468, -0.84898359,\n",
       "          3.40281245]],\n",
       "\n",
       "       [[-0.84700286, -0.83274201, -0.84620141, -0.82938123,\n",
       "          1.34264772],\n",
       "        [-0.82250673, -0.82501016, -0.83528037, -0.82852599,\n",
       "          1.02028641],\n",
       "        [-0.82300515, -0.82936818, -0.84547822, -0.84819957,\n",
       "          0.78989909],\n",
       "        [-0.83133682, -0.82817327, -0.84468271, -0.84128537,\n",
       "          1.78236789],\n",
       "        [-0.84835588, -0.84441037, -0.8476479 , -0.84427898,\n",
       "          0.75039631],\n",
       "        [-0.84152005, -0.84743323, -0.86095615, -0.86552114,\n",
       "          1.37960689],\n",
       "        [-0.86266946, -0.86486535, -0.87151571, -0.87143746,\n",
       "          2.43229153],\n",
       "        [-0.85690123, -0.85509468, -0.86211313, -0.85197745,\n",
       "          0.80407388],\n",
       "        [-0.84899698, -0.84040396, -0.8493116 , -0.84606119,\n",
       "          0.72873295],\n",
       "        [-0.83966841, -0.8304929 , -0.83882435, -0.82574607,\n",
       "          1.02580042],\n",
       "        [-0.82514143, -0.82149557, -0.82573334, -0.82161167,\n",
       "          0.60860286],\n",
       "        [-0.81488724, -0.81720785, -0.81654799, -0.82075638,\n",
       "          1.12928608],\n",
       "        [-0.82428686, -0.83042243, -0.84381468, -0.84898359,\n",
       "          3.40281245],\n",
       "        [-0.78718637, -0.7907783 , -0.7983942 , -0.80500315,\n",
       "          6.29970535]],\n",
       "\n",
       "       [[-0.82250673, -0.82501016, -0.83528037, -0.82852599,\n",
       "          1.02028641],\n",
       "        [-0.82300515, -0.82936818, -0.84547822, -0.84819957,\n",
       "          0.78989909],\n",
       "        [-0.83133682, -0.82817327, -0.84468271, -0.84128537,\n",
       "          1.78236789],\n",
       "        [-0.84835588, -0.84441037, -0.8476479 , -0.84427898,\n",
       "          0.75039631],\n",
       "        [-0.84152005, -0.84743323, -0.86095615, -0.86552114,\n",
       "          1.37960689],\n",
       "        [-0.86266946, -0.86486535, -0.87151571, -0.87143746,\n",
       "          2.43229153],\n",
       "        [-0.85690123, -0.85509468, -0.86211313, -0.85197745,\n",
       "          0.80407388],\n",
       "        [-0.84899698, -0.84040396, -0.8493116 , -0.84606119,\n",
       "          0.72873295],\n",
       "        [-0.83966841, -0.8304929 , -0.83882435, -0.82574607,\n",
       "          1.02580042],\n",
       "        [-0.82514143, -0.82149557, -0.82573334, -0.82161167,\n",
       "          0.60860286],\n",
       "        [-0.81488724, -0.81720785, -0.81654799, -0.82075638,\n",
       "          1.12928608],\n",
       "        [-0.82428686, -0.83042243, -0.84381468, -0.84898359,\n",
       "          3.40281245],\n",
       "        [-0.78718637, -0.7907783 , -0.7983942 , -0.80500315,\n",
       "          6.29970535],\n",
       "        [-0.79651504, -0.7832573 , -0.7965862 , -0.77941332,\n",
       "          2.76933976]],\n",
       "\n",
       "       [[-0.82300515, -0.82936818, -0.84547822, -0.84819957,\n",
       "          0.78989909],\n",
       "        [-0.83133682, -0.82817327, -0.84468271, -0.84128537,\n",
       "          1.78236789],\n",
       "        [-0.84835588, -0.84441037, -0.8476479 , -0.84427898,\n",
       "          0.75039631],\n",
       "        [-0.84152005, -0.84743323, -0.86095615, -0.86552114,\n",
       "          1.37960689],\n",
       "        [-0.86266946, -0.86486535, -0.87151571, -0.87143746,\n",
       "          2.43229153],\n",
       "        [-0.85690123, -0.85509468, -0.86211313, -0.85197745,\n",
       "          0.80407388],\n",
       "        [-0.84899698, -0.84040396, -0.8493116 , -0.84606119,\n",
       "          0.72873295],\n",
       "        [-0.83966841, -0.8304929 , -0.83882435, -0.82574607,\n",
       "          1.02580042],\n",
       "        [-0.82514143, -0.82149557, -0.82573334, -0.82161167,\n",
       "          0.60860286],\n",
       "        [-0.81488724, -0.81720785, -0.81654799, -0.82075638,\n",
       "          1.12928608],\n",
       "        [-0.82428686, -0.83042243, -0.84381468, -0.84898359,\n",
       "          3.40281245],\n",
       "        [-0.78718637, -0.7907783 , -0.7983942 , -0.80500315,\n",
       "          6.29970535],\n",
       "        [-0.79651504, -0.7832573 , -0.7965862 , -0.77941332,\n",
       "          2.76933976],\n",
       "        [-0.78170317, -0.77756361, -0.78725605, -0.7918161 ,\n",
       "          2.73002477]],\n",
       "\n",
       "       [[-0.83133682, -0.82817327, -0.84468271, -0.84128537,\n",
       "          1.78236789],\n",
       "        [-0.84835588, -0.84441037, -0.8476479 , -0.84427898,\n",
       "          0.75039631],\n",
       "        [-0.84152005, -0.84743323, -0.86095615, -0.86552114,\n",
       "          1.37960689],\n",
       "        [-0.86266946, -0.86486535, -0.87151571, -0.87143746,\n",
       "          2.43229153],\n",
       "        [-0.85690123, -0.85509468, -0.86211313, -0.85197745,\n",
       "          0.80407388],\n",
       "        [-0.84899698, -0.84040396, -0.8493116 , -0.84606119,\n",
       "          0.72873295],\n",
       "        [-0.83966841, -0.8304929 , -0.83882435, -0.82574607,\n",
       "          1.02580042],\n",
       "        [-0.82514143, -0.82149557, -0.82573334, -0.82161167,\n",
       "          0.60860286],\n",
       "        [-0.81488724, -0.81720785, -0.81654799, -0.82075638,\n",
       "          1.12928608],\n",
       "        [-0.82428686, -0.83042243, -0.84381468, -0.84898359,\n",
       "          3.40281245],\n",
       "        [-0.78718637, -0.7907783 , -0.7983942 , -0.80500315,\n",
       "          6.29970535],\n",
       "        [-0.79651504, -0.7832573 , -0.7965862 , -0.77941332,\n",
       "          2.76933976],\n",
       "        [-0.78170317, -0.77756361, -0.78725605, -0.7918161 ,\n",
       "          2.73002477],\n",
       "        [-0.78419566, -0.78339792, -0.79282524, -0.78133795,\n",
       "          1.53467605]],\n",
       "\n",
       "       [[-0.84835588, -0.84441037, -0.8476479 , -0.84427898,\n",
       "          0.75039631],\n",
       "        [-0.84152005, -0.84743323, -0.86095615, -0.86552114,\n",
       "          1.37960689],\n",
       "        [-0.86266946, -0.86486535, -0.87151571, -0.87143746,\n",
       "          2.43229153],\n",
       "        [-0.85690123, -0.85509468, -0.86211313, -0.85197745,\n",
       "          0.80407388],\n",
       "        [-0.84899698, -0.84040396, -0.8493116 , -0.84606119,\n",
       "          0.72873295],\n",
       "        [-0.83966841, -0.8304929 , -0.83882435, -0.82574607,\n",
       "          1.02580042],\n",
       "        [-0.82514143, -0.82149557, -0.82573334, -0.82161167,\n",
       "          0.60860286],\n",
       "        [-0.81488724, -0.81720785, -0.81654799, -0.82075638,\n",
       "          1.12928608],\n",
       "        [-0.82428686, -0.83042243, -0.84381468, -0.84898359,\n",
       "          3.40281245],\n",
       "        [-0.78718637, -0.7907783 , -0.7983942 , -0.80500315,\n",
       "          6.29970535],\n",
       "        [-0.79651504, -0.7832573 , -0.7965862 , -0.77941332,\n",
       "          2.76933976],\n",
       "        [-0.78170317, -0.77756361, -0.78725605, -0.7918161 ,\n",
       "          2.73002477],\n",
       "        [-0.78419566, -0.78339792, -0.79282524, -0.78133795,\n",
       "          1.53467605],\n",
       "        [-0.78099115, -0.7839602 , -0.78175935, -0.78119529,\n",
       "          0.91878101]],\n",
       "\n",
       "       [[-0.84152005, -0.84743323, -0.86095615, -0.86552114,\n",
       "          1.37960689],\n",
       "        [-0.86266946, -0.86486535, -0.87151571, -0.87143746,\n",
       "          2.43229153],\n",
       "        [-0.85690123, -0.85509468, -0.86211313, -0.85197745,\n",
       "          0.80407388],\n",
       "        [-0.84899698, -0.84040396, -0.8493116 , -0.84606119,\n",
       "          0.72873295],\n",
       "        [-0.83966841, -0.8304929 , -0.83882435, -0.82574607,\n",
       "          1.02580042],\n",
       "        [-0.82514143, -0.82149557, -0.82573334, -0.82161167,\n",
       "          0.60860286],\n",
       "        [-0.81488724, -0.81720785, -0.81654799, -0.82075638,\n",
       "          1.12928608],\n",
       "        [-0.82428686, -0.83042243, -0.84381468, -0.84898359,\n",
       "          3.40281245],\n",
       "        [-0.78718637, -0.7907783 , -0.7983942 , -0.80500315,\n",
       "          6.29970535],\n",
       "        [-0.79651504, -0.7832573 , -0.7965862 , -0.77941332,\n",
       "          2.76933976],\n",
       "        [-0.78170317, -0.77756361, -0.78725605, -0.7918161 ,\n",
       "          2.73002477],\n",
       "        [-0.78419566, -0.78339792, -0.79282524, -0.78133795,\n",
       "          1.53467605],\n",
       "        [-0.78099115, -0.7839602 , -0.78175935, -0.78119529,\n",
       "          0.91878101],\n",
       "        [-0.78099106, -0.77397873, -0.77669649, -0.77470864,\n",
       "          1.95636902]],\n",
       "\n",
       "       [[-0.86266946, -0.86486535, -0.87151571, -0.87143746,\n",
       "          2.43229153],\n",
       "        [-0.85690123, -0.85509468, -0.86211313, -0.85197745,\n",
       "          0.80407388],\n",
       "        [-0.84899698, -0.84040396, -0.8493116 , -0.84606119,\n",
       "          0.72873295],\n",
       "        [-0.83966841, -0.8304929 , -0.83882435, -0.82574607,\n",
       "          1.02580042],\n",
       "        [-0.82514143, -0.82149557, -0.82573334, -0.82161167,\n",
       "          0.60860286],\n",
       "        [-0.81488724, -0.81720785, -0.81654799, -0.82075638,\n",
       "          1.12928608],\n",
       "        [-0.82428686, -0.83042243, -0.84381468, -0.84898359,\n",
       "          3.40281245],\n",
       "        [-0.78718637, -0.7907783 , -0.7983942 , -0.80500315,\n",
       "          6.29970535],\n",
       "        [-0.79651504, -0.7832573 , -0.7965862 , -0.77941332,\n",
       "          2.76933976],\n",
       "        [-0.78170317, -0.77756361, -0.78725605, -0.7918161 ,\n",
       "          2.73002477],\n",
       "        [-0.78419566, -0.78339792, -0.79282524, -0.78133795,\n",
       "          1.53467605],\n",
       "        [-0.78099115, -0.7839602 , -0.78175935, -0.78119529,\n",
       "          0.91878101],\n",
       "        [-0.78099106, -0.77397873, -0.77669649, -0.77470864,\n",
       "          1.95636902],\n",
       "        [-0.76679403, -0.77261149, -0.7664939 , -0.76862571,\n",
       "          0.36854754]],\n",
       "\n",
       "       [[-0.85690123, -0.85509468, -0.86211313, -0.85197745,\n",
       "          0.80407388],\n",
       "        [-0.84899698, -0.84040396, -0.8493116 , -0.84606119,\n",
       "          0.72873295],\n",
       "        [-0.83966841, -0.8304929 , -0.83882435, -0.82574607,\n",
       "          1.02580042],\n",
       "        [-0.82514143, -0.82149557, -0.82573334, -0.82161167,\n",
       "          0.60860286],\n",
       "        [-0.81488724, -0.81720785, -0.81654799, -0.82075638,\n",
       "          1.12928608],\n",
       "        [-0.82428686, -0.83042243, -0.84381468, -0.84898359,\n",
       "          3.40281245],\n",
       "        [-0.78718637, -0.7907783 , -0.7983942 , -0.80500315,\n",
       "          6.29970535],\n",
       "        [-0.79651504, -0.7832573 , -0.7965862 , -0.77941332,\n",
       "          2.76933976],\n",
       "        [-0.78170317, -0.77756361, -0.78725605, -0.7918161 ,\n",
       "          2.73002477],\n",
       "        [-0.78419566, -0.78339792, -0.79282524, -0.78133795,\n",
       "          1.53467605],\n",
       "        [-0.78099115, -0.7839602 , -0.78175935, -0.78119529,\n",
       "          0.91878101],\n",
       "        [-0.78099106, -0.77397873, -0.77669649, -0.77470864,\n",
       "          1.95636902],\n",
       "        [-0.76679403, -0.77261149, -0.7664939 , -0.76862571,\n",
       "          0.36854754],\n",
       "        [-0.76679417, -0.77247051, -0.77230295, -0.77585368,\n",
       "          0.45165018]],\n",
       "\n",
       "       [[-0.84899698, -0.84040396, -0.8493116 , -0.84606119,\n",
       "          0.72873295],\n",
       "        [-0.83966841, -0.8304929 , -0.83882435, -0.82574607,\n",
       "          1.02580042],\n",
       "        [-0.82514143, -0.82149557, -0.82573334, -0.82161167,\n",
       "          0.60860286],\n",
       "        [-0.81488724, -0.81720785, -0.81654799, -0.82075638,\n",
       "          1.12928608],\n",
       "        [-0.82428686, -0.83042243, -0.84381468, -0.84898359,\n",
       "          3.40281245],\n",
       "        [-0.78718637, -0.7907783 , -0.7983942 , -0.80500315,\n",
       "          6.29970535],\n",
       "        [-0.79651504, -0.7832573 , -0.7965862 , -0.77941332,\n",
       "          2.76933976],\n",
       "        [-0.78170317, -0.77756361, -0.78725605, -0.7918161 ,\n",
       "          2.73002477],\n",
       "        [-0.78419566, -0.78339792, -0.79282524, -0.78133795,\n",
       "          1.53467605],\n",
       "        [-0.78099115, -0.7839602 , -0.78175935, -0.78119529,\n",
       "          0.91878101],\n",
       "        [-0.78099106, -0.77397873, -0.77669649, -0.77470864,\n",
       "          1.95636902],\n",
       "        [-0.76679403, -0.77261149, -0.7664939 , -0.76862571,\n",
       "          0.36854754],\n",
       "        [-0.76679417, -0.77247051, -0.77230295, -0.77585368,\n",
       "          0.45165018],\n",
       "        [-0.77730333, -0.77536384, -0.77244814, -0.77020023,\n",
       "          0.17755487]]])"
      ]
     },
     "execution_count": 17,
     "metadata": {},
     "output_type": "execute_result"
    }
   ],
   "source": [
    "X_train[:14]"
   ]
  },
  {
   "cell_type": "code",
   "execution_count": 18,
   "metadata": {},
   "outputs": [
    {
     "data": {
      "text/plain": [
       "array([[-0.83966841],\n",
       "       [-0.82514143],\n",
       "       [-0.81488724],\n",
       "       [-0.82428686],\n",
       "       [-0.78718637],\n",
       "       [-0.79651504],\n",
       "       [-0.78170317],\n",
       "       [-0.78419566],\n",
       "       [-0.78099115],\n",
       "       [-0.78099106],\n",
       "       [-0.76679403],\n",
       "       [-0.76679417],\n",
       "       [-0.77730333],\n",
       "       [-0.76572179]])"
      ]
     },
     "execution_count": 18,
     "metadata": {},
     "output_type": "execute_result"
    }
   ],
   "source": [
    "y_train[:14]"
   ]
  },
  {
   "cell_type": "markdown",
   "metadata": {},
   "source": [
    "## Benchmark Score"
   ]
  },
  {
   "cell_type": "code",
   "execution_count": 19,
   "metadata": {},
   "outputs": [
    {
     "data": {
      "text/plain": [
       "0.2"
      ]
     },
     "execution_count": 19,
     "metadata": {},
     "output_type": "execute_result"
    }
   ],
   "source": [
    "1/5"
   ]
  },
  {
   "cell_type": "code",
   "execution_count": 20,
   "metadata": {},
   "outputs": [],
   "source": [
    "from tensorflow.keras.optimizers import RMSprop\n",
    "\n",
    "def init_model():\n",
    "    \n",
    "    model = Sequential()\n",
    "    model.add(LSTM(40, return_sequences=True, input_shape=(X_train.shape[1], X_train.shape[2])))\n",
    "    model.add(LSTM(10, return_sequences=True, activation='tanh'))\n",
    "    model.add(Dense(5, activation='relu'))\n",
    "    model.add(Dropout(0.2))\n",
    "    model.add(Dense(1, activation='linear'))\n",
    "    model.compile(loss='mse', \n",
    "                  optimizer=RMSprop(learning_rate=0.0003), \n",
    "                  metrics=['mae'])\n",
    "    \n",
    "    return model\n",
    "\n"
   ]
  },
  {
   "cell_type": "code",
   "execution_count": 21,
   "metadata": {},
   "outputs": [
    {
     "name": "stdout",
     "output_type": "stream",
     "text": [
      "Model: \"sequential\"\n",
      "_________________________________________________________________\n",
      "Layer (type)                 Output Shape              Param #   \n",
      "=================================================================\n",
      "lstm (LSTM)                  (None, 14, 40)            7360      \n",
      "_________________________________________________________________\n",
      "lstm_1 (LSTM)                (None, 14, 10)            2040      \n",
      "_________________________________________________________________\n",
      "dense (Dense)                (None, 14, 5)             55        \n",
      "_________________________________________________________________\n",
      "dropout (Dropout)            (None, 14, 5)             0         \n",
      "_________________________________________________________________\n",
      "dense_1 (Dense)              (None, 14, 1)             6         \n",
      "=================================================================\n",
      "Total params: 9,461\n",
      "Trainable params: 9,461\n",
      "Non-trainable params: 0\n",
      "_________________________________________________________________\n"
     ]
    }
   ],
   "source": [
    "from tensorflow.keras.callbacks import EarlyStopping\n",
    "\n",
    "model1 = init_model()\n",
    "model1.summary()\n",
    "\n",
    "\n"
   ]
  },
  {
   "cell_type": "code",
   "execution_count": 22,
   "metadata": {},
   "outputs": [
    {
     "name": "stdout",
     "output_type": "stream",
     "text": [
      "Epoch 1/1000\n",
      "18/18 [==============================] - 4s 67ms/step - loss: 0.3960 - mae: 0.5516 - val_loss: 3.9898 - val_mae: 1.6670\n",
      "Epoch 2/1000\n",
      "18/18 [==============================] - 0s 21ms/step - loss: 0.2909 - mae: 0.4632 - val_loss: 3.5151 - val_mae: 1.5617\n",
      "Epoch 3/1000\n",
      "18/18 [==============================] - 0s 26ms/step - loss: 0.1720 - mae: 0.3350 - val_loss: 3.2490 - val_mae: 1.4927\n",
      "Epoch 4/1000\n",
      "18/18 [==============================] - 1s 28ms/step - loss: 0.1252 - mae: 0.2751 - val_loss: 3.1315 - val_mae: 1.4570\n",
      "Epoch 5/1000\n",
      "18/18 [==============================] - 1s 47ms/step - loss: 0.0981 - mae: 0.2424 - val_loss: 3.0507 - val_mae: 1.4361\n",
      "Epoch 6/1000\n",
      "18/18 [==============================] - 1s 34ms/step - loss: 0.0783 - mae: 0.2124 - val_loss: 2.9421 - val_mae: 1.4082\n",
      "Epoch 7/1000\n",
      "18/18 [==============================] - 1s 36ms/step - loss: 0.0653 - mae: 0.1911 - val_loss: 2.8773 - val_mae: 1.3909\n",
      "Epoch 8/1000\n",
      "18/18 [==============================] - 1s 37ms/step - loss: 0.0560 - mae: 0.1769 - val_loss: 2.8456 - val_mae: 1.3825\n",
      "Epoch 9/1000\n",
      "18/18 [==============================] - 1s 31ms/step - loss: 0.0527 - mae: 0.1699 - val_loss: 2.8261 - val_mae: 1.3774\n",
      "Epoch 10/1000\n",
      "18/18 [==============================] - 1s 29ms/step - loss: 0.0487 - mae: 0.1636 - val_loss: 2.7995 - val_mae: 1.3718\n",
      "Epoch 11/1000\n",
      "18/18 [==============================] - 1s 30ms/step - loss: 0.0457 - mae: 0.1600 - val_loss: 2.7669 - val_mae: 1.3651\n",
      "Epoch 12/1000\n",
      "18/18 [==============================] - 1s 36ms/step - loss: 0.0404 - mae: 0.1519 - val_loss: 2.7388 - val_mae: 1.3601\n",
      "Epoch 13/1000\n",
      "18/18 [==============================] - 1s 31ms/step - loss: 0.0391 - mae: 0.1500 - val_loss: 2.7192 - val_mae: 1.3569\n",
      "Epoch 14/1000\n",
      "18/18 [==============================] - 1s 32ms/step - loss: 0.0374 - mae: 0.1473 - val_loss: 2.7079 - val_mae: 1.3546\n",
      "Epoch 15/1000\n",
      "18/18 [==============================] - 1s 34ms/step - loss: 0.0361 - mae: 0.1453 - val_loss: 2.6949 - val_mae: 1.3524\n",
      "Epoch 16/1000\n",
      "18/18 [==============================] - 1s 30ms/step - loss: 0.0343 - mae: 0.1418 - val_loss: 2.6968 - val_mae: 1.3530\n",
      "Epoch 17/1000\n",
      "18/18 [==============================] - 1s 30ms/step - loss: 0.0324 - mae: 0.1373 - val_loss: 2.6954 - val_mae: 1.3526\n",
      "Epoch 18/1000\n",
      "18/18 [==============================] - 1s 31ms/step - loss: 0.0326 - mae: 0.1396 - val_loss: 2.6943 - val_mae: 1.3524\n",
      "Epoch 19/1000\n",
      "18/18 [==============================] - 1s 29ms/step - loss: 0.0305 - mae: 0.1337 - val_loss: 2.6951 - val_mae: 1.3525\n",
      "Epoch 20/1000\n",
      "18/18 [==============================] - 1s 30ms/step - loss: 0.0323 - mae: 0.1377 - val_loss: 2.6902 - val_mae: 1.3514\n",
      "Epoch 21/1000\n",
      "18/18 [==============================] - 1s 30ms/step - loss: 0.0304 - mae: 0.1348 - val_loss: 2.6907 - val_mae: 1.3511\n",
      "Epoch 22/1000\n",
      "18/18 [==============================] - 1s 30ms/step - loss: 0.0284 - mae: 0.1295 - val_loss: 2.6838 - val_mae: 1.3494\n",
      "Epoch 23/1000\n",
      "18/18 [==============================] - 1s 30ms/step - loss: 0.0273 - mae: 0.1276 - val_loss: 2.6825 - val_mae: 1.3490\n",
      "Epoch 24/1000\n",
      "18/18 [==============================] - 1s 31ms/step - loss: 0.0271 - mae: 0.1268 - val_loss: 2.6763 - val_mae: 1.3471\n",
      "Epoch 25/1000\n",
      "18/18 [==============================] - 1s 30ms/step - loss: 0.0277 - mae: 0.1284 - val_loss: 2.6750 - val_mae: 1.3464\n",
      "Epoch 26/1000\n",
      "18/18 [==============================] - 1s 30ms/step - loss: 0.0264 - mae: 0.1252 - val_loss: 2.6745 - val_mae: 1.3459\n",
      "Epoch 27/1000\n",
      "18/18 [==============================] - 1s 30ms/step - loss: 0.0255 - mae: 0.1234 - val_loss: 2.6657 - val_mae: 1.3432\n",
      "Epoch 28/1000\n",
      "18/18 [==============================] - 1s 29ms/step - loss: 0.0257 - mae: 0.1229 - val_loss: 2.6533 - val_mae: 1.3395\n",
      "Epoch 29/1000\n",
      "18/18 [==============================] - 1s 30ms/step - loss: 0.0247 - mae: 0.1216 - val_loss: 2.6490 - val_mae: 1.3380\n",
      "Epoch 30/1000\n",
      "18/18 [==============================] - 1s 30ms/step - loss: 0.0246 - mae: 0.1211 - val_loss: 2.6489 - val_mae: 1.3376\n",
      "Epoch 31/1000\n",
      "18/18 [==============================] - 1s 29ms/step - loss: 0.0242 - mae: 0.1204 - val_loss: 2.6378 - val_mae: 1.3338\n",
      "Epoch 32/1000\n",
      "18/18 [==============================] - 1s 29ms/step - loss: 0.0237 - mae: 0.1195 - val_loss: 2.6295 - val_mae: 1.3313\n",
      "Epoch 33/1000\n",
      "18/18 [==============================] - 1s 29ms/step - loss: 0.0224 - mae: 0.1148 - val_loss: 2.6200 - val_mae: 1.3279\n",
      "Epoch 34/1000\n",
      "18/18 [==============================] - 1s 30ms/step - loss: 0.0229 - mae: 0.1172 - val_loss: 2.6129 - val_mae: 1.3253\n",
      "Epoch 35/1000\n",
      "18/18 [==============================] - 1s 29ms/step - loss: 0.0227 - mae: 0.1159 - val_loss: 2.6034 - val_mae: 1.3218\n",
      "Epoch 36/1000\n",
      "18/18 [==============================] - 1s 29ms/step - loss: 0.0216 - mae: 0.1132 - val_loss: 2.5935 - val_mae: 1.3180\n",
      "Epoch 37/1000\n",
      "18/18 [==============================] - 1s 29ms/step - loss: 0.0216 - mae: 0.1140 - val_loss: 2.5786 - val_mae: 1.3127\n",
      "Epoch 38/1000\n",
      "18/18 [==============================] - 1s 30ms/step - loss: 0.0209 - mae: 0.1105 - val_loss: 2.5669 - val_mae: 1.3081\n",
      "Epoch 39/1000\n",
      "18/18 [==============================] - 1s 29ms/step - loss: 0.0205 - mae: 0.1093 - val_loss: 2.5514 - val_mae: 1.3023\n",
      "Epoch 40/1000\n",
      "18/18 [==============================] - 1s 30ms/step - loss: 0.0207 - mae: 0.1096 - val_loss: 2.5352 - val_mae: 1.2959\n",
      "Epoch 41/1000\n",
      "18/18 [==============================] - 1s 29ms/step - loss: 0.0208 - mae: 0.1112 - val_loss: 2.5150 - val_mae: 1.2887\n",
      "Epoch 42/1000\n",
      "18/18 [==============================] - 1s 29ms/step - loss: 0.0207 - mae: 0.1104 - val_loss: 2.4985 - val_mae: 1.2827\n",
      "Epoch 43/1000\n",
      "18/18 [==============================] - 1s 30ms/step - loss: 0.0196 - mae: 0.1071 - val_loss: 2.4859 - val_mae: 1.2780\n",
      "Epoch 44/1000\n",
      "18/18 [==============================] - 1s 31ms/step - loss: 0.0192 - mae: 0.1045 - val_loss: 2.4721 - val_mae: 1.2730\n",
      "Epoch 45/1000\n",
      "18/18 [==============================] - 1s 32ms/step - loss: 0.0190 - mae: 0.1051 - val_loss: 2.4621 - val_mae: 1.2696\n",
      "Epoch 46/1000\n",
      "18/18 [==============================] - 1s 30ms/step - loss: 0.0188 - mae: 0.1048 - val_loss: 2.4519 - val_mae: 1.2654\n",
      "Epoch 47/1000\n",
      "18/18 [==============================] - 1s 29ms/step - loss: 0.0189 - mae: 0.1041 - val_loss: 2.4495 - val_mae: 1.2644\n",
      "Epoch 48/1000\n",
      "18/18 [==============================] - 1s 28ms/step - loss: 0.0185 - mae: 0.1032 - val_loss: 2.4408 - val_mae: 1.2615\n",
      "Epoch 49/1000\n",
      "18/18 [==============================] - 1s 29ms/step - loss: 0.0177 - mae: 0.0997 - val_loss: 2.4379 - val_mae: 1.2596\n",
      "Epoch 50/1000\n",
      "18/18 [==============================] - 1s 30ms/step - loss: 0.0178 - mae: 0.1003 - val_loss: 2.4285 - val_mae: 1.2567\n",
      "Epoch 51/1000\n",
      "18/18 [==============================] - 1s 29ms/step - loss: 0.0169 - mae: 0.0999 - val_loss: 2.4241 - val_mae: 1.2549\n",
      "Epoch 52/1000\n",
      "18/18 [==============================] - 1s 29ms/step - loss: 0.0172 - mae: 0.1001 - val_loss: 2.4277 - val_mae: 1.2561\n",
      "Epoch 53/1000\n",
      "18/18 [==============================] - 1s 31ms/step - loss: 0.0173 - mae: 0.1001 - val_loss: 2.4182 - val_mae: 1.2518\n",
      "Epoch 54/1000\n",
      "18/18 [==============================] - 1s 29ms/step - loss: 0.0166 - mae: 0.0984 - val_loss: 2.4182 - val_mae: 1.2521\n",
      "Epoch 55/1000\n",
      "18/18 [==============================] - 0s 28ms/step - loss: 0.0165 - mae: 0.0979 - val_loss: 2.4058 - val_mae: 1.2477\n",
      "Epoch 56/1000\n",
      "18/18 [==============================] - 1s 28ms/step - loss: 0.0162 - mae: 0.0978 - val_loss: 2.4121 - val_mae: 1.2492\n",
      "Epoch 57/1000\n",
      "18/18 [==============================] - 1s 29ms/step - loss: 0.0161 - mae: 0.0970 - val_loss: 2.4051 - val_mae: 1.2468\n",
      "Epoch 58/1000\n",
      "18/18 [==============================] - 0s 27ms/step - loss: 0.0155 - mae: 0.0940 - val_loss: 2.4036 - val_mae: 1.2458\n",
      "Epoch 59/1000\n",
      "18/18 [==============================] - 0s 28ms/step - loss: 0.0156 - mae: 0.0948 - val_loss: 2.3981 - val_mae: 1.2438\n",
      "Epoch 60/1000\n",
      "18/18 [==============================] - 0s 28ms/step - loss: 0.0152 - mae: 0.0937 - val_loss: 2.3999 - val_mae: 1.2446\n",
      "Epoch 61/1000\n",
      "18/18 [==============================] - 1s 28ms/step - loss: 0.0147 - mae: 0.0919 - val_loss: 2.4036 - val_mae: 1.2456\n",
      "Epoch 62/1000\n"
     ]
    },
    {
     "name": "stdout",
     "output_type": "stream",
     "text": [
      "18/18 [==============================] - 0s 27ms/step - loss: 0.0150 - mae: 0.0928 - val_loss: 2.4053 - val_mae: 1.2461\n",
      "Epoch 63/1000\n",
      "18/18 [==============================] - 1s 28ms/step - loss: 0.0143 - mae: 0.0910 - val_loss: 2.3931 - val_mae: 1.2422\n",
      "Epoch 64/1000\n",
      "18/18 [==============================] - 1s 30ms/step - loss: 0.0146 - mae: 0.0925 - val_loss: 2.3916 - val_mae: 1.2415\n",
      "Epoch 65/1000\n",
      "18/18 [==============================] - 1s 29ms/step - loss: 0.0141 - mae: 0.0906 - val_loss: 2.3895 - val_mae: 1.2400\n",
      "Epoch 66/1000\n",
      "18/18 [==============================] - 1s 29ms/step - loss: 0.0145 - mae: 0.0922 - val_loss: 2.3848 - val_mae: 1.2385\n",
      "Epoch 67/1000\n",
      "18/18 [==============================] - 1s 35ms/step - loss: 0.0145 - mae: 0.0922 - val_loss: 2.3878 - val_mae: 1.2396\n",
      "Epoch 68/1000\n",
      "18/18 [==============================] - 0s 27ms/step - loss: 0.0146 - mae: 0.0911 - val_loss: 2.3820 - val_mae: 1.2373\n",
      "Epoch 69/1000\n",
      "18/18 [==============================] - 0s 27ms/step - loss: 0.0139 - mae: 0.0898 - val_loss: 2.3811 - val_mae: 1.2372\n",
      "Epoch 70/1000\n",
      "18/18 [==============================] - 0s 27ms/step - loss: 0.0132 - mae: 0.0884 - val_loss: 2.3755 - val_mae: 1.2356\n",
      "Epoch 71/1000\n",
      "18/18 [==============================] - 0s 28ms/step - loss: 0.0139 - mae: 0.0896 - val_loss: 2.3733 - val_mae: 1.2345\n",
      "Epoch 72/1000\n",
      "18/18 [==============================] - 0s 27ms/step - loss: 0.0133 - mae: 0.0877 - val_loss: 2.3718 - val_mae: 1.2340\n",
      "Epoch 73/1000\n",
      "18/18 [==============================] - 0s 28ms/step - loss: 0.0141 - mae: 0.0909 - val_loss: 2.3759 - val_mae: 1.2355\n",
      "Epoch 74/1000\n",
      "18/18 [==============================] - 0s 27ms/step - loss: 0.0132 - mae: 0.0872 - val_loss: 2.3742 - val_mae: 1.2342\n",
      "Epoch 75/1000\n",
      "18/18 [==============================] - 1s 30ms/step - loss: 0.0130 - mae: 0.0870 - val_loss: 2.3659 - val_mae: 1.2319\n",
      "Epoch 76/1000\n",
      "18/18 [==============================] - 1s 28ms/step - loss: 0.0127 - mae: 0.0859 - val_loss: 2.3733 - val_mae: 1.2341\n",
      "Epoch 77/1000\n",
      "18/18 [==============================] - 0s 28ms/step - loss: 0.0130 - mae: 0.0858 - val_loss: 2.3676 - val_mae: 1.2315\n",
      "Epoch 78/1000\n",
      "18/18 [==============================] - 0s 28ms/step - loss: 0.0129 - mae: 0.0865 - val_loss: 2.3572 - val_mae: 1.2284\n",
      "Epoch 79/1000\n",
      "18/18 [==============================] - 0s 28ms/step - loss: 0.0123 - mae: 0.0843 - val_loss: 2.3582 - val_mae: 1.2278\n",
      "Epoch 80/1000\n",
      "18/18 [==============================] - 0s 27ms/step - loss: 0.0120 - mae: 0.0833 - val_loss: 2.3513 - val_mae: 1.2251\n",
      "Epoch 81/1000\n",
      "18/18 [==============================] - 1s 29ms/step - loss: 0.0122 - mae: 0.0840 - val_loss: 2.3454 - val_mae: 1.2240\n",
      "Epoch 82/1000\n",
      "18/18 [==============================] - 1s 29ms/step - loss: 0.0123 - mae: 0.0845 - val_loss: 2.3448 - val_mae: 1.2229\n",
      "Epoch 83/1000\n",
      "18/18 [==============================] - 0s 27ms/step - loss: 0.0124 - mae: 0.0845 - val_loss: 2.3425 - val_mae: 1.2221\n",
      "Epoch 84/1000\n",
      "18/18 [==============================] - 0s 28ms/step - loss: 0.0127 - mae: 0.0859 - val_loss: 2.3483 - val_mae: 1.2238\n",
      "Epoch 85/1000\n",
      "18/18 [==============================] - 0s 27ms/step - loss: 0.0119 - mae: 0.0828 - val_loss: 2.3373 - val_mae: 1.2206\n",
      "Epoch 86/1000\n",
      "18/18 [==============================] - 1s 28ms/step - loss: 0.0119 - mae: 0.0830 - val_loss: 2.3436 - val_mae: 1.2220\n",
      "Epoch 87/1000\n",
      "18/18 [==============================] - 1s 29ms/step - loss: 0.0118 - mae: 0.0820 - val_loss: 2.3420 - val_mae: 1.2218\n",
      "Epoch 88/1000\n",
      "18/18 [==============================] - 0s 28ms/step - loss: 0.0121 - mae: 0.0830 - val_loss: 2.3352 - val_mae: 1.2179\n",
      "Epoch 89/1000\n",
      "18/18 [==============================] - 1s 29ms/step - loss: 0.0120 - mae: 0.0827 - val_loss: 2.3294 - val_mae: 1.2153\n",
      "Epoch 90/1000\n",
      "18/18 [==============================] - 1s 28ms/step - loss: 0.0115 - mae: 0.0815 - val_loss: 2.3227 - val_mae: 1.2141\n",
      "Epoch 91/1000\n",
      "18/18 [==============================] - 0s 27ms/step - loss: 0.0111 - mae: 0.0802 - val_loss: 2.3164 - val_mae: 1.2115\n",
      "Epoch 92/1000\n",
      "18/18 [==============================] - 0s 28ms/step - loss: 0.0113 - mae: 0.0805 - val_loss: 2.3146 - val_mae: 1.2097\n",
      "Epoch 93/1000\n",
      "18/18 [==============================] - 0s 28ms/step - loss: 0.0113 - mae: 0.0798 - val_loss: 2.3018 - val_mae: 1.2059\n",
      "Epoch 94/1000\n",
      "18/18 [==============================] - 1s 29ms/step - loss: 0.0120 - mae: 0.0830 - val_loss: 2.3034 - val_mae: 1.2068\n",
      "Epoch 95/1000\n",
      "18/18 [==============================] - 1s 31ms/step - loss: 0.0120 - mae: 0.0827 - val_loss: 2.3016 - val_mae: 1.2075\n",
      "Epoch 96/1000\n",
      "18/18 [==============================] - 1s 28ms/step - loss: 0.0113 - mae: 0.0807 - val_loss: 2.3012 - val_mae: 1.2054\n",
      "Epoch 97/1000\n",
      "18/18 [==============================] - 1s 29ms/step - loss: 0.0112 - mae: 0.0800 - val_loss: 2.2959 - val_mae: 1.2043\n",
      "Epoch 98/1000\n",
      "18/18 [==============================] - 0s 28ms/step - loss: 0.0109 - mae: 0.0791 - val_loss: 2.2997 - val_mae: 1.2052\n",
      "Epoch 99/1000\n",
      "18/18 [==============================] - 1s 37ms/step - loss: 0.0113 - mae: 0.0795 - val_loss: 2.2982 - val_mae: 1.2052\n",
      "Epoch 100/1000\n",
      "18/18 [==============================] - 1s 46ms/step - loss: 0.0108 - mae: 0.0782 - val_loss: 2.2862 - val_mae: 1.1987\n",
      "Epoch 101/1000\n",
      "18/18 [==============================] - 1s 35ms/step - loss: 0.0113 - mae: 0.0801 - val_loss: 2.2867 - val_mae: 1.2011\n",
      "Epoch 102/1000\n",
      "18/18 [==============================] - 1s 37ms/step - loss: 0.0111 - mae: 0.0789 - val_loss: 2.2882 - val_mae: 1.2005\n",
      "Epoch 103/1000\n",
      "18/18 [==============================] - 1s 38ms/step - loss: 0.0113 - mae: 0.0797 - val_loss: 2.2839 - val_mae: 1.1989\n",
      "Epoch 104/1000\n",
      "18/18 [==============================] - 1s 31ms/step - loss: 0.0110 - mae: 0.0788 - val_loss: 2.2709 - val_mae: 1.1939\n",
      "Epoch 105/1000\n",
      "18/18 [==============================] - 1s 31ms/step - loss: 0.0105 - mae: 0.0769 - val_loss: 2.2685 - val_mae: 1.1934\n",
      "Epoch 106/1000\n",
      "18/18 [==============================] - 1s 36ms/step - loss: 0.0106 - mae: 0.0774 - val_loss: 2.2777 - val_mae: 1.1961\n",
      "Epoch 107/1000\n",
      "18/18 [==============================] - 1s 31ms/step - loss: 0.0110 - mae: 0.0785 - val_loss: 2.2630 - val_mae: 1.1908\n",
      "Epoch 108/1000\n",
      "18/18 [==============================] - 1s 31ms/step - loss: 0.0114 - mae: 0.0796 - val_loss: 2.2590 - val_mae: 1.1893\n",
      "Epoch 109/1000\n",
      "18/18 [==============================] - 1s 34ms/step - loss: 0.0109 - mae: 0.0789 - val_loss: 2.2585 - val_mae: 1.1889\n",
      "Epoch 110/1000\n",
      "18/18 [==============================] - 1s 30ms/step - loss: 0.0107 - mae: 0.0768 - val_loss: 2.2564 - val_mae: 1.1883\n",
      "Epoch 111/1000\n",
      "18/18 [==============================] - 1s 32ms/step - loss: 0.0109 - mae: 0.0771 - val_loss: 2.2432 - val_mae: 1.1836\n",
      "Epoch 112/1000\n",
      "18/18 [==============================] - 1s 33ms/step - loss: 0.0108 - mae: 0.0775 - val_loss: 2.2441 - val_mae: 1.1833\n",
      "Epoch 113/1000\n",
      "18/18 [==============================] - 1s 40ms/step - loss: 0.0109 - mae: 0.0777 - val_loss: 2.2465 - val_mae: 1.1824\n",
      "Epoch 114/1000\n",
      "18/18 [==============================] - 1s 46ms/step - loss: 0.0105 - mae: 0.0768 - val_loss: 2.2357 - val_mae: 1.1787\n",
      "Epoch 115/1000\n",
      "18/18 [==============================] - 1s 29ms/step - loss: 0.0108 - mae: 0.0776 - val_loss: 2.2331 - val_mae: 1.1779\n",
      "Epoch 116/1000\n",
      "18/18 [==============================] - 1s 29ms/step - loss: 0.0102 - mae: 0.0750 - val_loss: 2.2341 - val_mae: 1.1791\n",
      "Epoch 117/1000\n",
      "18/18 [==============================] - 1s 29ms/step - loss: 0.0106 - mae: 0.0765 - val_loss: 2.2364 - val_mae: 1.1805\n",
      "Epoch 118/1000\n",
      "18/18 [==============================] - 1s 30ms/step - loss: 0.0107 - mae: 0.0774 - val_loss: 2.2299 - val_mae: 1.1779\n",
      "Epoch 119/1000\n",
      "18/18 [==============================] - 1s 33ms/step - loss: 0.0107 - mae: 0.0768 - val_loss: 2.2311 - val_mae: 1.1786\n",
      "Epoch 120/1000\n",
      "18/18 [==============================] - 1s 30ms/step - loss: 0.0106 - mae: 0.0768 - val_loss: 2.2180 - val_mae: 1.1731\n",
      "Epoch 121/1000\n",
      "18/18 [==============================] - 1s 29ms/step - loss: 0.0112 - mae: 0.0784 - val_loss: 2.2228 - val_mae: 1.1745\n",
      "Epoch 122/1000\n",
      "18/18 [==============================] - 1s 29ms/step - loss: 0.0107 - mae: 0.0776 - val_loss: 2.2087 - val_mae: 1.1692\n",
      "Epoch 123/1000\n"
     ]
    },
    {
     "name": "stdout",
     "output_type": "stream",
     "text": [
      "18/18 [==============================] - 1s 29ms/step - loss: 0.0110 - mae: 0.0778 - val_loss: 2.2176 - val_mae: 1.1734\n",
      "Epoch 124/1000\n",
      "18/18 [==============================] - 1s 28ms/step - loss: 0.0112 - mae: 0.0781 - val_loss: 2.2195 - val_mae: 1.1738\n",
      "Epoch 125/1000\n",
      "18/18 [==============================] - 1s 28ms/step - loss: 0.0105 - mae: 0.0762 - val_loss: 2.2011 - val_mae: 1.1672\n",
      "Epoch 126/1000\n",
      "18/18 [==============================] - 0s 28ms/step - loss: 0.0105 - mae: 0.0764 - val_loss: 2.2110 - val_mae: 1.1699\n",
      "Epoch 127/1000\n",
      "18/18 [==============================] - 1s 28ms/step - loss: 0.0108 - mae: 0.0768 - val_loss: 2.2034 - val_mae: 1.1674\n",
      "Epoch 128/1000\n",
      "18/18 [==============================] - 0s 28ms/step - loss: 0.0103 - mae: 0.0752 - val_loss: 2.1956 - val_mae: 1.1639\n",
      "Epoch 129/1000\n",
      "18/18 [==============================] - 0s 27ms/step - loss: 0.0107 - mae: 0.0766 - val_loss: 2.1981 - val_mae: 1.1643\n",
      "Epoch 130/1000\n",
      "18/18 [==============================] - 0s 28ms/step - loss: 0.0105 - mae: 0.0760 - val_loss: 2.1924 - val_mae: 1.1620\n",
      "Epoch 131/1000\n",
      "18/18 [==============================] - 0s 28ms/step - loss: 0.0106 - mae: 0.0767 - val_loss: 2.1852 - val_mae: 1.1595\n",
      "Epoch 132/1000\n",
      "18/18 [==============================] - 0s 28ms/step - loss: 0.0106 - mae: 0.0759 - val_loss: 2.1863 - val_mae: 1.1598\n",
      "Epoch 133/1000\n",
      "18/18 [==============================] - 1s 29ms/step - loss: 0.0101 - mae: 0.0751 - val_loss: 2.1732 - val_mae: 1.1552\n",
      "Epoch 134/1000\n",
      "18/18 [==============================] - 1s 28ms/step - loss: 0.0103 - mae: 0.0747 - val_loss: 2.1751 - val_mae: 1.1568\n",
      "Epoch 135/1000\n",
      "18/18 [==============================] - 1s 28ms/step - loss: 0.0100 - mae: 0.0745 - val_loss: 2.1587 - val_mae: 1.1510\n",
      "Epoch 136/1000\n",
      "18/18 [==============================] - 1s 39ms/step - loss: 0.0104 - mae: 0.0752 - val_loss: 2.1694 - val_mae: 1.1547\n",
      "Epoch 137/1000\n",
      "18/18 [==============================] - 1s 62ms/step - loss: 0.0101 - mae: 0.0753 - val_loss: 2.1635 - val_mae: 1.1518\n",
      "Epoch 138/1000\n",
      "18/18 [==============================] - 1s 46ms/step - loss: 0.0105 - mae: 0.0756 - val_loss: 2.1585 - val_mae: 1.1519\n",
      "Epoch 139/1000\n",
      "18/18 [==============================] - 1s 74ms/step - loss: 0.0099 - mae: 0.0739 - val_loss: 2.1599 - val_mae: 1.1521\n",
      "Epoch 140/1000\n",
      "18/18 [==============================] - 1s 40ms/step - loss: 0.0103 - mae: 0.0755 - val_loss: 2.1534 - val_mae: 1.1494\n",
      "Epoch 141/1000\n",
      "18/18 [==============================] - 1s 43ms/step - loss: 0.0102 - mae: 0.0743 - val_loss: 2.1452 - val_mae: 1.1468\n",
      "Epoch 142/1000\n",
      "18/18 [==============================] - 1s 42ms/step - loss: 0.0100 - mae: 0.0750 - val_loss: 2.1559 - val_mae: 1.1489\n",
      "Epoch 143/1000\n",
      "18/18 [==============================] - 1s 37ms/step - loss: 0.0105 - mae: 0.0750 - val_loss: 2.1700 - val_mae: 1.1562\n",
      "Epoch 144/1000\n",
      "18/18 [==============================] - 1s 37ms/step - loss: 0.0108 - mae: 0.0764 - val_loss: 2.1625 - val_mae: 1.1518\n",
      "Epoch 145/1000\n",
      "18/18 [==============================] - 1s 30ms/step - loss: 0.0097 - mae: 0.0732 - val_loss: 2.1580 - val_mae: 1.1515\n",
      "Epoch 146/1000\n",
      "18/18 [==============================] - 0s 28ms/step - loss: 0.0107 - mae: 0.0759 - val_loss: 2.1479 - val_mae: 1.1448\n",
      "Restoring model weights from the end of the best epoch.\n",
      "Epoch 00146: early stopping\n"
     ]
    }
   ],
   "source": [
    "es = EarlyStopping(monitor='val_loss', mode='min', verbose=1, patience=5, restore_best_weights=True)\n",
    "\n",
    "history = model1.fit(X_train, y_train,validation_split=0.3,epochs=1000, batch_size=64,callbacks=[es], verbose=1)"
   ]
  },
  {
   "cell_type": "code",
   "execution_count": 23,
   "metadata": {
    "scrolled": false
   },
   "outputs": [
    {
     "data": {
      "text/plain": [
       "<matplotlib.legend.Legend at 0x7ff1a94b7d30>"
      ]
     },
     "execution_count": 23,
     "metadata": {},
     "output_type": "execute_result"
    },
    {
     "data": {
      "image/png": "[encoded data removed]",
      "text/plain": [
       "<Figure size 432x288 with 1 Axes>"
      ]
     },
     "metadata": {
      "needs_background": "light"
     },
     "output_type": "display_data"
    }
   ],
   "source": [
    "plt.plot(history.history['mae'], label=\"val_loss\")\n",
    "plt.plot(history.history['val_mae'], label=\"val_mae\")\n",
    "plt.legend()"
   ]
  },
  {
   "cell_type": "markdown",
   "metadata": {},
   "source": [
    "## Using LSTM to Model and Predict Future Values"
   ]
  },
  {
   "cell_type": "code",
   "execution_count": 24,
   "metadata": {},
   "outputs": [
    {
     "data": {
      "text/html": [
       "<div>\n",
       "<style scoped>\n",
       "    .dataframe tbody tr th:only-of-type {\n",
       "        vertical-align: middle;\n",
       "    }\n",
       "\n",
       "    .dataframe tbody tr th {\n",
       "        vertical-align: top;\n",
       "    }\n",
       "\n",
       "    .dataframe thead th {\n",
       "        text-align: right;\n",
       "    }\n",
       "</style>\n",
       "<table border=\"1\" class=\"dataframe\">\n",
       "  <thead>\n",
       "    <tr style=\"text-align: right;\">\n",
       "      <th></th>\n",
       "      <th>Open</th>\n",
       "      <th>High</th>\n",
       "      <th>Low</th>\n",
       "      <th>Close</th>\n",
       "      <th>Volume</th>\n",
       "      <th>Dividends</th>\n",
       "      <th>Stock Splits</th>\n",
       "    </tr>\n",
       "    <tr>\n",
       "      <th>Date</th>\n",
       "      <th></th>\n",
       "      <th></th>\n",
       "      <th></th>\n",
       "      <th></th>\n",
       "      <th></th>\n",
       "      <th></th>\n",
       "      <th></th>\n",
       "    </tr>\n",
       "  </thead>\n",
       "  <tbody>\n",
       "    <tr>\n",
       "      <th>2021-05-25</th>\n",
       "      <td>127.820000</td>\n",
       "      <td>128.320007</td>\n",
       "      <td>126.320000</td>\n",
       "      <td>126.900002</td>\n",
       "      <td>72009500</td>\n",
       "      <td>0.0</td>\n",
       "      <td>0.0</td>\n",
       "    </tr>\n",
       "    <tr>\n",
       "      <th>2021-05-26</th>\n",
       "      <td>126.959999</td>\n",
       "      <td>127.389999</td>\n",
       "      <td>126.419998</td>\n",
       "      <td>126.849998</td>\n",
       "      <td>56575900</td>\n",
       "      <td>0.0</td>\n",
       "      <td>0.0</td>\n",
       "    </tr>\n",
       "    <tr>\n",
       "      <th>2021-05-27</th>\n",
       "      <td>126.440002</td>\n",
       "      <td>127.639999</td>\n",
       "      <td>125.080002</td>\n",
       "      <td>125.279999</td>\n",
       "      <td>94625600</td>\n",
       "      <td>0.0</td>\n",
       "      <td>0.0</td>\n",
       "    </tr>\n",
       "    <tr>\n",
       "      <th>2021-05-28</th>\n",
       "      <td>125.570000</td>\n",
       "      <td>125.800003</td>\n",
       "      <td>124.550003</td>\n",
       "      <td>124.610001</td>\n",
       "      <td>71311100</td>\n",
       "      <td>0.0</td>\n",
       "      <td>0.0</td>\n",
       "    </tr>\n",
       "    <tr>\n",
       "      <th>2021-06-01</th>\n",
       "      <td>125.080002</td>\n",
       "      <td>125.349998</td>\n",
       "      <td>123.940002</td>\n",
       "      <td>124.279999</td>\n",
       "      <td>67500600</td>\n",
       "      <td>0.0</td>\n",
       "      <td>0.0</td>\n",
       "    </tr>\n",
       "  </tbody>\n",
       "</table>\n",
       "</div>"
      ],
      "text/plain": [
       "                  Open        High         Low       Close    Volume  \\\n",
       "Date                                                                   \n",
       "2021-05-25  127.820000  128.320007  126.320000  126.900002  72009500   \n",
       "2021-05-26  126.959999  127.389999  126.419998  126.849998  56575900   \n",
       "2021-05-27  126.440002  127.639999  125.080002  125.279999  94625600   \n",
       "2021-05-28  125.570000  125.800003  124.550003  124.610001  71311100   \n",
       "2021-06-01  125.080002  125.349998  123.940002  124.279999  67500600   \n",
       "\n",
       "            Dividends  Stock Splits  \n",
       "Date                                 \n",
       "2021-05-25        0.0           0.0  \n",
       "2021-05-26        0.0           0.0  \n",
       "2021-05-27        0.0           0.0  \n",
       "2021-05-28        0.0           0.0  \n",
       "2021-06-01        0.0           0.0  "
      ]
     },
     "execution_count": 24,
     "metadata": {},
     "output_type": "execute_result"
    }
   ],
   "source": [
    "apple_data.tail()"
   ]
  },
  {
   "cell_type": "markdown",
   "metadata": {},
   "source": [
    "# Data Preprocessing"
   ]
  },
  {
   "cell_type": "code",
   "execution_count": 25,
   "metadata": {
    "scrolled": true
   },
   "outputs": [
    {
     "data": {
      "text/plain": [
       "yfinance.Ticker object <NIO>"
      ]
     },
     "execution_count": 25,
     "metadata": {},
     "output_type": "execute_result"
    }
   ],
   "source": [
    "nio = yf.Ticker(\"NIO\")\n",
    "nio"
   ]
  },
  {
   "cell_type": "code",
   "execution_count": 26,
   "metadata": {
    "scrolled": true
   },
   "outputs": [
    {
     "data": {
      "text/html": [
       "<div>\n",
       "<style scoped>\n",
       "    .dataframe tbody tr th:only-of-type {\n",
       "        vertical-align: middle;\n",
       "    }\n",
       "\n",
       "    .dataframe tbody tr th {\n",
       "        vertical-align: top;\n",
       "    }\n",
       "\n",
       "    .dataframe thead th {\n",
       "        text-align: right;\n",
       "    }\n",
       "</style>\n",
       "<table border=\"1\" class=\"dataframe\">\n",
       "  <thead>\n",
       "    <tr style=\"text-align: right;\">\n",
       "      <th></th>\n",
       "      <th>Open</th>\n",
       "      <th>High</th>\n",
       "      <th>Low</th>\n",
       "      <th>Close</th>\n",
       "      <th>Volume</th>\n",
       "      <th>Dividends</th>\n",
       "      <th>Stock Splits</th>\n",
       "    </tr>\n",
       "    <tr>\n",
       "      <th>Date</th>\n",
       "      <th></th>\n",
       "      <th></th>\n",
       "      <th></th>\n",
       "      <th></th>\n",
       "      <th></th>\n",
       "      <th></th>\n",
       "      <th></th>\n",
       "    </tr>\n",
       "  </thead>\n",
       "  <tbody>\n",
       "    <tr>\n",
       "      <th>2021-05-25</th>\n",
       "      <td>36.320000</td>\n",
       "      <td>37.639999</td>\n",
       "      <td>35.689999</td>\n",
       "      <td>36.070000</td>\n",
       "      <td>76628000</td>\n",
       "      <td>0</td>\n",
       "      <td>0</td>\n",
       "    </tr>\n",
       "    <tr>\n",
       "      <th>2021-05-26</th>\n",
       "      <td>36.250000</td>\n",
       "      <td>38.080002</td>\n",
       "      <td>36.070000</td>\n",
       "      <td>37.759998</td>\n",
       "      <td>55929000</td>\n",
       "      <td>0</td>\n",
       "      <td>0</td>\n",
       "    </tr>\n",
       "    <tr>\n",
       "      <th>2021-05-27</th>\n",
       "      <td>37.950001</td>\n",
       "      <td>38.980000</td>\n",
       "      <td>37.180000</td>\n",
       "      <td>38.910000</td>\n",
       "      <td>52933300</td>\n",
       "      <td>0</td>\n",
       "      <td>0</td>\n",
       "    </tr>\n",
       "    <tr>\n",
       "      <th>2021-05-28</th>\n",
       "      <td>38.740002</td>\n",
       "      <td>39.759998</td>\n",
       "      <td>38.169998</td>\n",
       "      <td>38.619999</td>\n",
       "      <td>58236000</td>\n",
       "      <td>0</td>\n",
       "      <td>0</td>\n",
       "    </tr>\n",
       "    <tr>\n",
       "      <th>2021-06-01</th>\n",
       "      <td>39.990002</td>\n",
       "      <td>42.439999</td>\n",
       "      <td>39.939999</td>\n",
       "      <td>42.340000</td>\n",
       "      <td>101295000</td>\n",
       "      <td>0</td>\n",
       "      <td>0</td>\n",
       "    </tr>\n",
       "  </tbody>\n",
       "</table>\n",
       "</div>"
      ],
      "text/plain": [
       "                 Open       High        Low      Close     Volume  Dividends  \\\n",
       "Date                                                                           \n",
       "2021-05-25  36.320000  37.639999  35.689999  36.070000   76628000          0   \n",
       "2021-05-26  36.250000  38.080002  36.070000  37.759998   55929000          0   \n",
       "2021-05-27  37.950001  38.980000  37.180000  38.910000   52933300          0   \n",
       "2021-05-28  38.740002  39.759998  38.169998  38.619999   58236000          0   \n",
       "2021-06-01  39.990002  42.439999  39.939999  42.340000  101295000          0   \n",
       "\n",
       "            Stock Splits  \n",
       "Date                      \n",
       "2021-05-25             0  \n",
       "2021-05-26             0  \n",
       "2021-05-27             0  \n",
       "2021-05-28             0  \n",
       "2021-06-01             0  "
      ]
     },
     "execution_count": 26,
     "metadata": {},
     "output_type": "execute_result"
    }
   ],
   "source": [
    "#Get historical data\n",
    "nio_data = nio.history(start =\"2015-01-01\", end=date.today(), interval=\"1d\")\n",
    "nio_data.tail()"
   ]
  },
  {
   "cell_type": "markdown",
   "metadata": {},
   "source": [
    "## Data Visualization"
   ]
  },
  {
   "cell_type": "code",
   "execution_count": 27,
   "metadata": {
    "scrolled": true
   },
   "outputs": [
    {
     "data": {
      "image/png": "[encoded data removed]",
      "text/plain": [
       "<Figure size 1224x144 with 1 Axes>"
      ]
     },
     "metadata": {
      "needs_background": "light"
     },
     "output_type": "display_data"
    },
    {
     "data": {
      "image/png": "[encoded data removed]",
      "text/plain": [
       "<Figure size 1224x144 with 1 Axes>"
      ]
     },
     "metadata": {
      "needs_background": "light"
     },
     "output_type": "display_data"
    },
    {
     "data": {
      "image/png": "[encoded data removed]",
      "text/plain": [
       "<Figure size 1224x144 with 1 Axes>"
      ]
     },
     "metadata": {
      "needs_background": "light"
     },
     "output_type": "display_data"
    },
    {
     "data": {
      "image/png": "[encoded data removed]",
      "text/plain": [
       "<Figure size 1224x144 with 1 Axes>"
      ]
     },
     "metadata": {
      "needs_background": "light"
     },
     "output_type": "display_data"
    },
    {
     "data": {
      "image/png": "[encoded data removed]",
      "text/plain": [
       "<Figure size 1224x144 with 1 Axes>"
      ]
     },
     "metadata": {
      "needs_background": "light"
     },
     "output_type": "display_data"
    },
    {
     "data": {
      "image/png": "[encoded data removed]",
      "text/plain": [
       "<Figure size 1224x144 with 1 Axes>"
      ]
     },
     "metadata": {
      "needs_background": "light"
     },
     "output_type": "display_data"
    },
    {
     "data": {
      "image/png": "[encoded data removed]",
      "text/plain": [
       "<Figure size 1224x144 with 1 Axes>"
      ]
     },
     "metadata": {
      "needs_background": "light"
     },
     "output_type": "display_data"
    }
   ],
   "source": [
    "%matplotlib inline\n",
    "\n",
    "for col in nio_data.columns:\n",
    "    color=\"orange\" if col == \"Close\" else \"blue\"\n",
    "    apple_data[col].plot(figsize=(17, 2), color=color)\n",
    "    plt.title(col)\n",
    "    plt.show()"
   ]
  },
  {
   "cell_type": "markdown",
   "metadata": {},
   "source": [
    "## Data Preprocessing"
   ]
  },
  {
   "cell_type": "code",
   "execution_count": 28,
   "metadata": {
    "scrolled": true
   },
   "outputs": [
    {
     "data": {
      "text/html": [
       "<div>\n",
       "<style scoped>\n",
       "    .dataframe tbody tr th:only-of-type {\n",
       "        vertical-align: middle;\n",
       "    }\n",
       "\n",
       "    .dataframe tbody tr th {\n",
       "        vertical-align: top;\n",
       "    }\n",
       "\n",
       "    .dataframe thead th {\n",
       "        text-align: right;\n",
       "    }\n",
       "</style>\n",
       "<table border=\"1\" class=\"dataframe\">\n",
       "  <thead>\n",
       "    <tr style=\"text-align: right;\">\n",
       "      <th></th>\n",
       "      <th>Open</th>\n",
       "      <th>High</th>\n",
       "      <th>Low</th>\n",
       "      <th>Close</th>\n",
       "      <th>Volume</th>\n",
       "      <th>Dividends</th>\n",
       "      <th>Stock Splits</th>\n",
       "    </tr>\n",
       "  </thead>\n",
       "  <tbody>\n",
       "    <tr>\n",
       "      <th>count</th>\n",
       "      <td>684.000000</td>\n",
       "      <td>684.000000</td>\n",
       "      <td>684.000000</td>\n",
       "      <td>684.000000</td>\n",
       "      <td>6.840000e+02</td>\n",
       "      <td>684.0</td>\n",
       "      <td>684.0</td>\n",
       "    </tr>\n",
       "    <tr>\n",
       "      <th>mean</th>\n",
       "      <td>14.917866</td>\n",
       "      <td>15.445716</td>\n",
       "      <td>14.320219</td>\n",
       "      <td>14.917529</td>\n",
       "      <td>6.982931e+07</td>\n",
       "      <td>0.0</td>\n",
       "      <td>0.0</td>\n",
       "    </tr>\n",
       "    <tr>\n",
       "      <th>std</th>\n",
       "      <td>17.129245</td>\n",
       "      <td>17.673731</td>\n",
       "      <td>16.442351</td>\n",
       "      <td>17.102900</td>\n",
       "      <td>7.438813e+07</td>\n",
       "      <td>0.0</td>\n",
       "      <td>0.0</td>\n",
       "    </tr>\n",
       "    <tr>\n",
       "      <th>min</th>\n",
       "      <td>1.190000</td>\n",
       "      <td>1.450000</td>\n",
       "      <td>1.190000</td>\n",
       "      <td>1.320000</td>\n",
       "      <td>5.111000e+06</td>\n",
       "      <td>0.0</td>\n",
       "      <td>0.0</td>\n",
       "    </tr>\n",
       "    <tr>\n",
       "      <th>25%</th>\n",
       "      <td>3.377500</td>\n",
       "      <td>3.487500</td>\n",
       "      <td>3.225000</td>\n",
       "      <td>3.340000</td>\n",
       "      <td>2.156398e+07</td>\n",
       "      <td>0.0</td>\n",
       "      <td>0.0</td>\n",
       "    </tr>\n",
       "    <tr>\n",
       "      <th>50%</th>\n",
       "      <td>6.525000</td>\n",
       "      <td>6.760000</td>\n",
       "      <td>6.250000</td>\n",
       "      <td>6.540000</td>\n",
       "      <td>4.800370e+07</td>\n",
       "      <td>0.0</td>\n",
       "      <td>0.0</td>\n",
       "    </tr>\n",
       "    <tr>\n",
       "      <th>75%</th>\n",
       "      <td>19.517500</td>\n",
       "      <td>20.594999</td>\n",
       "      <td>18.752500</td>\n",
       "      <td>19.955000</td>\n",
       "      <td>8.473468e+07</td>\n",
       "      <td>0.0</td>\n",
       "      <td>0.0</td>\n",
       "    </tr>\n",
       "    <tr>\n",
       "      <th>max</th>\n",
       "      <td>64.949997</td>\n",
       "      <td>66.989998</td>\n",
       "      <td>62.189999</td>\n",
       "      <td>62.840000</td>\n",
       "      <td>5.771851e+08</td>\n",
       "      <td>0.0</td>\n",
       "      <td>0.0</td>\n",
       "    </tr>\n",
       "  </tbody>\n",
       "</table>\n",
       "</div>"
      ],
      "text/plain": [
       "             Open        High         Low       Close        Volume  \\\n",
       "count  684.000000  684.000000  684.000000  684.000000  6.840000e+02   \n",
       "mean    14.917866   15.445716   14.320219   14.917529  6.982931e+07   \n",
       "std     17.129245   17.673731   16.442351   17.102900  7.438813e+07   \n",
       "min      1.190000    1.450000    1.190000    1.320000  5.111000e+06   \n",
       "25%      3.377500    3.487500    3.225000    3.340000  2.156398e+07   \n",
       "50%      6.525000    6.760000    6.250000    6.540000  4.800370e+07   \n",
       "75%     19.517500   20.594999   18.752500   19.955000  8.473468e+07   \n",
       "max     64.949997   66.989998   62.189999   62.840000  5.771851e+08   \n",
       "\n",
       "       Dividends  Stock Splits  \n",
       "count      684.0         684.0  \n",
       "mean         0.0           0.0  \n",
       "std          0.0           0.0  \n",
       "min          0.0           0.0  \n",
       "25%          0.0           0.0  \n",
       "50%          0.0           0.0  \n",
       "75%          0.0           0.0  \n",
       "max          0.0           0.0  "
      ]
     },
     "execution_count": 28,
     "metadata": {},
     "output_type": "execute_result"
    }
   ],
   "source": [
    "nio_data.describe()"
   ]
  },
  {
   "cell_type": "code",
   "execution_count": 29,
   "metadata": {
    "scrolled": true
   },
   "outputs": [
    {
     "data": {
      "text/plain": [
       "Open            0\n",
       "High            0\n",
       "Low             0\n",
       "Close           0\n",
       "Volume          0\n",
       "Dividends       0\n",
       "Stock Splits    0\n",
       "dtype: int64"
      ]
     },
     "execution_count": 29,
     "metadata": {},
     "output_type": "execute_result"
    }
   ],
   "source": [
    "nio_data.isnull().sum()"
   ]
  },
  {
   "cell_type": "code",
   "execution_count": 30,
   "metadata": {
    "scrolled": true
   },
   "outputs": [
    {
     "name": "stdout",
     "output_type": "stream",
     "text": [
      "<class 'pandas.core.frame.DataFrame'>\n",
      "DatetimeIndex: 684 entries, 2018-09-12 to 2021-06-01\n",
      "Data columns (total 7 columns):\n",
      " #   Column        Non-Null Count  Dtype  \n",
      "---  ------        --------------  -----  \n",
      " 0   Open          684 non-null    float64\n",
      " 1   High          684 non-null    float64\n",
      " 2   Low           684 non-null    float64\n",
      " 3   Close         684 non-null    float64\n",
      " 4   Volume        684 non-null    int64  \n",
      " 5   Dividends     684 non-null    int64  \n",
      " 6   Stock Splits  684 non-null    int64  \n",
      "dtypes: float64(4), int64(3)\n",
      "memory usage: 42.8 KB\n"
     ]
    }
   ],
   "source": [
    "nio_data.info()"
   ]
  },
  {
   "cell_type": "code",
   "execution_count": 31,
   "metadata": {
    "scrolled": true
   },
   "outputs": [
    {
     "data": {
      "text/plain": [
       "679    36.070000\n",
       "680    37.759998\n",
       "681    38.910000\n",
       "682    38.619999\n",
       "683    42.340000\n",
       "Name: Close, dtype: float64"
      ]
     },
     "execution_count": 31,
     "metadata": {},
     "output_type": "execute_result"
    }
   ],
   "source": [
    "nio_df = nio_data.reset_index()[\"Close\"]\n",
    "nio_df.tail()"
   ]
  },
  {
   "cell_type": "code",
   "execution_count": 32,
   "metadata": {
    "scrolled": false
   },
   "outputs": [
    {
     "data": {
      "text/plain": [
       "[<matplotlib.lines.Line2D at 0x7ff198031f10>]"
      ]
     },
     "execution_count": 32,
     "metadata": {},
     "output_type": "execute_result"
    },
    {
     "data": {
      "image/png": "[encoded data removed]",
      "text/plain": [
       "<Figure size 432x288 with 1 Axes>"
      ]
     },
     "metadata": {
      "needs_background": "light"
     },
     "output_type": "display_data"
    }
   ],
   "source": [
    "plt.plot(nio_df)"
   ]
  },
  {
   "cell_type": "markdown",
   "metadata": {},
   "source": [
    "### Train-Test Split\n",
    "To avoid data Leak, we have to split our data in a different way and also because we are dealing with a time series Problem, we have to divide in days and not randomly because the next data. depends on the value of the previous day"
   ]
  },
  {
   "cell_type": "code",
   "execution_count": 33,
   "metadata": {},
   "outputs": [],
   "source": [
    "index= int(len(nio_df) * 0.8)\n",
    "train = nio_df[:index]\n",
    "test = nio_df[index:]"
   ]
  },
  {
   "cell_type": "code",
   "execution_count": 34,
   "metadata": {},
   "outputs": [
    {
     "name": "stdout",
     "output_type": "stream",
     "text": [
      "547\n",
      "137\n"
     ]
    }
   ],
   "source": [
    "print(len(train))\n",
    "print(len(test))"
   ]
  },
  {
   "cell_type": "markdown",
   "metadata": {},
   "source": [
    "## Data Normalisation"
   ]
  },
  {
   "cell_type": "code",
   "execution_count": 35,
   "metadata": {},
   "outputs": [
    {
     "data": {
      "text/plain": [
       "array([[-8.32654414e-02],\n",
       "       [ 6.37630308e-01],\n",
       "       [ 3.92525666e-01],\n",
       "       [ 1.90674931e-01],\n",
       "       [ 7.24480145e-02],\n",
       "       [ 1.90674931e-01],\n",
       "       [ 2.31045050e-01],\n",
       "       [ 2.03651075e-01],\n",
       "       [ 9.98420586e-02],\n",
       "       [ 5.80301147e-02],\n",
       "       [ 4.64957948e-02],\n",
       "       [-2.41519489e-02],\n",
       "       [-2.84773532e-02],\n",
       "       [-8.32654414e-02],\n",
       "       [-1.79865474e-01],\n",
       "       [-1.26519141e-01],\n",
       "       [-1.33728125e-01],\n",
       "       [-1.32286301e-01],\n",
       "       [-1.64005749e-01],\n",
       "       [ 3.06360706e-02],\n",
       "       [ 8.25405788e-02],\n",
       "       [ 3.58446505e-04],\n",
       "       [ 4.07286349e-02],\n",
       "       [ 9.26331431e-02],\n",
       "       [ 1.24352523e-01],\n",
       "       [ 8.54241588e-02],\n",
       "       [ 4.64957948e-02],\n",
       "       [ 2.05435751e-02],\n",
       "       [-2.12683689e-02],\n",
       "       [-5.29878173e-02],\n",
       "       [-1.45262445e-01],\n",
       "       [-1.04892326e-01],\n",
       "       [-1.19310225e-01],\n",
       "       [-1.42378865e-01],\n",
       "       [-1.76981894e-01],\n",
       "       [-1.84190809e-01],\n",
       "       [-8.03818614e-02],\n",
       "       [-9.91251656e-02],\n",
       "       [-7.17311215e-02],\n",
       "       [-1.12101241e-01],\n",
       "       [-6.30803816e-02],\n",
       "       [-7.02892972e-02],\n",
       "       [-5.87549773e-02],\n",
       "       [-7.60564571e-02],\n",
       "       [-5.73131529e-02],\n",
       "       [-1.11758734e-02],\n",
       "       [ 2.34271550e-02],\n",
       "       [ 1.80027087e-03],\n",
       "       [ 9.55167231e-02],\n",
       "       [ 7.10062589e-02],\n",
       "       [ 7.67734189e-02],\n",
       "       [ 4.07286349e-02],\n",
       "       [ 2.77524906e-02],\n",
       "       [ 4.36122148e-02],\n",
       "       [ 1.35886843e-01],\n",
       "       [ 8.83077388e-02],\n",
       "       [ 7.67734189e-02],\n",
       "       [ 5.80301147e-02],\n",
       "       [-1.40594534e-02],\n",
       "       [ 2.77524906e-02],\n",
       "       [-2.70355976e-02],\n",
       "       [-2.12683689e-02],\n",
       "       [-1.40594534e-02],\n",
       "       [ 5.22629547e-02],\n",
       "       [ 8.25405788e-02],\n",
       "       [ 7.53315945e-02],\n",
       "       [-2.12683689e-02],\n",
       "       [-1.55012090e-02],\n",
       "       [-5.01042374e-02],\n",
       "       [-9.47997613e-02],\n",
       "       [-1.59680345e-01],\n",
       "       [-1.81307229e-01],\n",
       "       [-1.17868401e-01],\n",
       "       [-1.07775906e-01],\n",
       "       [-1.02008746e-01],\n",
       "       [-1.16426645e-01],\n",
       "       [-1.40937110e-01],\n",
       "       [-1.62563925e-01],\n",
       "       [-1.17868401e-01],\n",
       "       [-9.76833413e-02],\n",
       "       [-1.12101241e-01],\n",
       "       [-7.89400371e-02],\n",
       "       [-7.46147015e-02],\n",
       "       [-8.47071970e-02],\n",
       "       [-5.44295729e-02],\n",
       "       [-5.15459930e-02],\n",
       "       [-6.74057172e-02],\n",
       "       [-5.29878173e-02],\n",
       "       [-6.74057172e-02],\n",
       "       [-8.75907770e-02],\n",
       "       [-9.04743570e-02],\n",
       "       [-8.61490214e-02],\n",
       "       [-7.60564571e-02],\n",
       "       [-7.31728771e-02],\n",
       "       [-3.42445132e-02],\n",
       "       [ 4.07286349e-02],\n",
       "       [ 1.01283883e-01],\n",
       "       [ 1.04167463e-01],\n",
       "       [ 9.69584787e-02],\n",
       "       [ 1.01283883e-01],\n",
       "       [ 1.76256962e-01],\n",
       "       [ 1.24352523e-01],\n",
       "       [ 7.10062589e-02],\n",
       "       [ 4.07286349e-02],\n",
       "       [ 3.78450549e-02],\n",
       "       [ 4.50539704e-02],\n",
       "       [ 4.36122148e-02],\n",
       "       [ 3.35196505e-02],\n",
       "       [ 1.18928351e-02],\n",
       "       [ 6.37972746e-02],\n",
       "       [ 6.66808546e-02],\n",
       "       [ 1.43095827e-01],\n",
       "       [ 2.62764499e-01],\n",
       "       [ 3.76666011e-01],\n",
       "       [ 3.85316820e-01],\n",
       "       [ 3.44946562e-01],\n",
       "       [ 4.15594444e-01],\n",
       "       [ 3.75224187e-01],\n",
       "       [ 4.30012275e-01],\n",
       "       [ 1.20027187e-01],\n",
       "       [-1.26176290e-02],\n",
       "       [-1.69430333e-02],\n",
       "       [-8.47071970e-02],\n",
       "       [-1.13543065e-01],\n",
       "       [-9.33579369e-02],\n",
       "       [-1.65447505e-01],\n",
       "       [-2.11584853e-01],\n",
       "       [-2.05817693e-01],\n",
       "       [-1.75540069e-01],\n",
       "       [-1.91399793e-01],\n",
       "       [-1.92841549e-01],\n",
       "       [-2.24560998e-01],\n",
       "       [-2.63489361e-01],\n",
       "       [-3.19719205e-01],\n",
       "       [-3.16835625e-01],\n",
       "       [-3.12510221e-01],\n",
       "       [-2.99534146e-01],\n",
       "       [-2.83674421e-01],\n",
       "       [-2.57722202e-01],\n",
       "       [-2.69256521e-01],\n",
       "       [-2.63489361e-01],\n",
       "       [-2.62047537e-01],\n",
       "       [-2.70698277e-01],\n",
       "       [-3.02417725e-01],\n",
       "       [-3.06743061e-01],\n",
       "       [-3.12510221e-01],\n",
       "       [-3.15393870e-01],\n",
       "       [-3.49996829e-01],\n",
       "       [-3.93250598e-01],\n",
       "       [-3.73065469e-01],\n",
       "       [-3.44229669e-01],\n",
       "       [-3.45671425e-01],\n",
       "       [-3.38462509e-01],\n",
       "       [-3.13952045e-01],\n",
       "       [-3.28369945e-01],\n",
       "       [-3.25486365e-01],\n",
       "       [-3.16835625e-01],\n",
       "       [-3.35578930e-01],\n",
       "       [-3.60089394e-01],\n",
       "       [-3.54322234e-01],\n",
       "       [-3.11068465e-01],\n",
       "       [-3.31253525e-01],\n",
       "       [-3.37020685e-01],\n",
       "       [-3.75949049e-01],\n",
       "       [-3.71623714e-01],\n",
       "       [-3.77390873e-01],\n",
       "       [-4.10552078e-01],\n",
       "       [-3.61531149e-01],\n",
       "       [-3.55763989e-01],\n",
       "       [-3.62972974e-01],\n",
       "       [-3.97575933e-01],\n",
       "       [-4.22086397e-01],\n",
       "       [-4.16319237e-01],\n",
       "       [-4.50922197e-01],\n",
       "       [-4.68223711e-01],\n",
       "       [-4.78316276e-01],\n",
       "       [-4.58131181e-01],\n",
       "       [-5.14361060e-01],\n",
       "       [-5.67707323e-01],\n",
       "       [-5.95101368e-01],\n",
       "       [-6.08077477e-01],\n",
       "       [-5.96543158e-01],\n",
       "       [-6.26820782e-01],\n",
       "       [-6.52773001e-01],\n",
       "       [-6.36913312e-01],\n",
       "       [-6.55656581e-01],\n",
       "       [-6.58540196e-01],\n",
       "       [-6.67190936e-01],\n",
       "       [-6.71516306e-01],\n",
       "       [-6.85934205e-01],\n",
       "       [-6.80167045e-01],\n",
       "       [-6.70074516e-01],\n",
       "       [-6.39796891e-01],\n",
       "       [-6.26820782e-01],\n",
       "       [-6.54214791e-01],\n",
       "       [-6.54214791e-01],\n",
       "       [-6.59981986e-01],\n",
       "       [-6.67190936e-01],\n",
       "       [-6.59981986e-01],\n",
       "       [-6.67190936e-01],\n",
       "       [-6.59981986e-01],\n",
       "       [-6.28262572e-01],\n",
       "       [-5.83567013e-01],\n",
       "       [-5.64823743e-01],\n",
       "       [-5.31662539e-01],\n",
       "       [-5.02826705e-01],\n",
       "       [-5.04268495e-01],\n",
       "       [-5.41755069e-01],\n",
       "       [-5.37429699e-01],\n",
       "       [-5.46080439e-01],\n",
       "       [-5.59056584e-01],\n",
       "       [-5.38871489e-01],\n",
       "       [-5.40313279e-01],\n",
       "       [-5.48964054e-01],\n",
       "       [-5.47522229e-01],\n",
       "       [-5.35987909e-01],\n",
       "       [-5.05710285e-01],\n",
       "       [-5.30220749e-01],\n",
       "       [-5.28778959e-01],\n",
       "       [-5.35987909e-01],\n",
       "       [-5.47522229e-01],\n",
       "       [-5.34546119e-01],\n",
       "       [-5.61940164e-01],\n",
       "       [-5.63381954e-01],\n",
       "       [-6.09519267e-01],\n",
       "       [-5.90775998e-01],\n",
       "       [-5.89334208e-01],\n",
       "       [-5.77799853e-01],\n",
       "       [-5.83567013e-01],\n",
       "       [-5.95101368e-01],\n",
       "       [-5.80683433e-01],\n",
       "       [-6.16728217e-01],\n",
       "       [-6.28262572e-01],\n",
       "       [-6.09519267e-01],\n",
       "       [-6.02310317e-01],\n",
       "       [-5.79241643e-01],\n",
       "       [-5.95101368e-01],\n",
       "       [-5.99426738e-01],\n",
       "       [-6.13844637e-01],\n",
       "       [-6.16728217e-01],\n",
       "       [-6.15286427e-01],\n",
       "       [-6.25378992e-01],\n",
       "       [-6.23937202e-01],\n",
       "       [-6.22495412e-01],\n",
       "       [-6.59981986e-01],\n",
       "       [-6.38355102e-01],\n",
       "       [-6.09519267e-01],\n",
       "       [-6.05193897e-01],\n",
       "       [-5.82125223e-01],\n",
       "       [-5.56173004e-01],\n",
       "       [-5.63381954e-01],\n",
       "       [-5.74916273e-01],\n",
       "       [-5.72032693e-01],\n",
       "       [-5.85008838e-01],\n",
       "       [-5.76358063e-01],\n",
       "       [-5.90775998e-01],\n",
       "       [-5.87892418e-01],\n",
       "       [-5.96543158e-01],\n",
       "       [-6.42680471e-01],\n",
       "       [-7.21978989e-01],\n",
       "       [-7.39280504e-01],\n",
       "       [-7.52256613e-01],\n",
       "       [-7.82534238e-01],\n",
       "       [-8.09928282e-01],\n",
       "       [-8.44531259e-01],\n",
       "       [-8.05602895e-01],\n",
       "       [-7.98393945e-01],\n",
       "       [-8.01277525e-01],\n",
       "       [-8.11370072e-01],\n",
       "       [-7.89743187e-01],\n",
       "       [-7.98393945e-01],\n",
       "       [-8.14253652e-01],\n",
       "       [-8.09928282e-01],\n",
       "       [-8.14253652e-01],\n",
       "       [-8.11370072e-01],\n",
       "       [-8.24346182e-01],\n",
       "       [-8.24346182e-01],\n",
       "       [-8.15695442e-01],\n",
       "       [-7.91184977e-01],\n",
       "       [-8.07044685e-01],\n",
       "       [-8.14253652e-01],\n",
       "       [-8.12811862e-01],\n",
       "       [-8.17137232e-01],\n",
       "       [-8.21462602e-01],\n",
       "       [-8.34438729e-01],\n",
       "       [-8.28671569e-01],\n",
       "       [-8.25787972e-01],\n",
       "       [-8.15695442e-01],\n",
       "       [-7.88301398e-01],\n",
       "       [-6.97468560e-01],\n",
       "       [-7.42164084e-01],\n",
       "       [-7.36396924e-01],\n",
       "       [-7.49373034e-01],\n",
       "       [-7.66674531e-01],\n",
       "       [-7.55140193e-01],\n",
       "       [-7.60907371e-01],\n",
       "       [-7.82534238e-01],\n",
       "       [-7.75325288e-01],\n",
       "       [-7.75325288e-01],\n",
       "       [-7.70999900e-01],\n",
       "       [-7.69558111e-01],\n",
       "       [-7.49373034e-01],\n",
       "       [-7.55140193e-01],\n",
       "       [-7.39280504e-01],\n",
       "       [-7.06119300e-01],\n",
       "       [-6.80167045e-01],\n",
       "       [-7.07561090e-01],\n",
       "       [-6.83050625e-01],\n",
       "       [-6.88817785e-01],\n",
       "       [-6.85934205e-01],\n",
       "       [-7.07561090e-01],\n",
       "       [-7.09002880e-01],\n",
       "       [-7.14770039e-01],\n",
       "       [-7.07561090e-01],\n",
       "       [-7.09002880e-01],\n",
       "       [-7.07561090e-01],\n",
       "       [-6.90259575e-01],\n",
       "       [-6.77283465e-01],\n",
       "       [-6.61423776e-01],\n",
       "       [-6.55656581e-01],\n",
       "       [-6.57098406e-01],\n",
       "       [-6.47005841e-01],\n",
       "       [-6.49889421e-01],\n",
       "       [-6.70074516e-01],\n",
       "       [-6.72958096e-01],\n",
       "       [-6.85934205e-01],\n",
       "       [-4.98501335e-01],\n",
       "       [-4.55247601e-01],\n",
       "       [-4.98501335e-01],\n",
       "       [-4.82641646e-01],\n",
       "       [-5.04268495e-01],\n",
       "       [-5.67707323e-01],\n",
       "       [-5.46080439e-01],\n",
       "       [-5.35987909e-01],\n",
       "       [-5.28778959e-01],\n",
       "       [-5.01384915e-01],\n",
       "       [-4.92734175e-01],\n",
       "       [-4.16319237e-01],\n",
       "       [-4.04784918e-01],\n",
       "       [-3.61531149e-01],\n",
       "       [-2.89441581e-01],\n",
       "       [-3.44229669e-01],\n",
       "       [-3.25486365e-01],\n",
       "       [-3.62972974e-01],\n",
       "       [-4.56689357e-01],\n",
       "       [-4.27853557e-01],\n",
       "       [-4.19202817e-01],\n",
       "       [-4.46596862e-01],\n",
       "       [-4.89850595e-01],\n",
       "       [-4.49480442e-01],\n",
       "       [-3.84599789e-01],\n",
       "       [-4.01901338e-01],\n",
       "       [-4.46596862e-01],\n",
       "       [-4.85525226e-01],\n",
       "       [-4.76874486e-01],\n",
       "       [-4.63898341e-01],\n",
       "       [-4.48038617e-01],\n",
       "       [-4.53805777e-01],\n",
       "       [-4.91292385e-01],\n",
       "       [-4.86967016e-01],\n",
       "       [-4.46596862e-01],\n",
       "       [-4.20644573e-01],\n",
       "       [-4.46596862e-01],\n",
       "       [-4.75432661e-01],\n",
       "       [-4.00459513e-01],\n",
       "       [-4.09110253e-01],\n",
       "       [-4.37946122e-01],\n",
       "       [-4.39387877e-01],\n",
       "       [-4.42271457e-01],\n",
       "       [-4.49480442e-01],\n",
       "       [-4.76874486e-01],\n",
       "       [-4.98501335e-01],\n",
       "       [-5.23011800e-01],\n",
       "       [-5.60498374e-01],\n",
       "       [-5.30220749e-01],\n",
       "       [-5.56173004e-01],\n",
       "       [-5.83567013e-01],\n",
       "       [-5.86450628e-01],\n",
       "       [-6.10961057e-01],\n",
       "       [-6.16728217e-01],\n",
       "       [-6.84492415e-01],\n",
       "       [-6.91701365e-01],\n",
       "       [-6.88817785e-01],\n",
       "       [-6.93143190e-01],\n",
       "       [-6.59981986e-01],\n",
       "       [-6.36913312e-01],\n",
       "       [-6.12402847e-01],\n",
       "       [-6.25378992e-01],\n",
       "       [-6.44122261e-01],\n",
       "       [-6.34029732e-01],\n",
       "       [-6.52773001e-01],\n",
       "       [-6.90259575e-01],\n",
       "       [-6.88817785e-01],\n",
       "       [-6.78725255e-01],\n",
       "       [-6.45564051e-01],\n",
       "       [-6.39796891e-01],\n",
       "       [-6.49889421e-01],\n",
       "       [-6.06635687e-01],\n",
       "       [-6.00868528e-01],\n",
       "       [-5.73474483e-01],\n",
       "       [-5.66265533e-01],\n",
       "       [-5.72032693e-01],\n",
       "       [-5.74916273e-01],\n",
       "       [-5.99426738e-01],\n",
       "       [-5.89334208e-01],\n",
       "       [-5.93659578e-01],\n",
       "       [-6.10961057e-01],\n",
       "       [-5.67707323e-01],\n",
       "       [-5.53289424e-01],\n",
       "       [-5.14361060e-01],\n",
       "       [-5.43196859e-01],\n",
       "       [-5.76358063e-01],\n",
       "       [-5.53289424e-01],\n",
       "       [-5.61940164e-01],\n",
       "       [-5.12919270e-01],\n",
       "       [-5.11477445e-01],\n",
       "       [-4.91292385e-01],\n",
       "       [-4.95617755e-01],\n",
       "       [-5.12919270e-01],\n",
       "       [-5.38871489e-01],\n",
       "       [-5.37429699e-01],\n",
       "       [-5.48964054e-01],\n",
       "       [-5.14361060e-01],\n",
       "       [-5.02826705e-01],\n",
       "       [-5.33104329e-01],\n",
       "       [-5.54731214e-01],\n",
       "       [-5.63381954e-01],\n",
       "       [-4.84083436e-01],\n",
       "       [-4.33620717e-01],\n",
       "       [-4.82641646e-01],\n",
       "       [-4.61014761e-01],\n",
       "       [-4.20644573e-01],\n",
       "       [-3.57205814e-01],\n",
       "       [-2.27444577e-01],\n",
       "       [-1.74098314e-01],\n",
       "       [-2.28886333e-01],\n",
       "       [-1.74098314e-01],\n",
       "       [-7.17311215e-02],\n",
       "       [-1.26519141e-01],\n",
       "       [-1.82749054e-01],\n",
       "       [-1.55355009e-01],\n",
       "       [-5.01042374e-02],\n",
       "       [-2.70355976e-02],\n",
       "       [-4.86624130e-02],\n",
       "       [ 3.58446505e-04],\n",
       "       [ 2.34271550e-02],\n",
       "       [ 3.64032305e-02],\n",
       "       [ 7.56743081e-03],\n",
       "       [-4.57788330e-02],\n",
       "       [-1.40594534e-02],\n",
       "       [-4.00116731e-02],\n",
       "       [ 7.56743081e-03],\n",
       "       [ 7.82151745e-02],\n",
       "       [ 1.05609219e-01],\n",
       "       [ 3.17552587e-01],\n",
       "       [ 6.24654163e-01],\n",
       "       [ 8.71200492e-01],\n",
       "       [ 8.22179563e-01],\n",
       "       [ 1.06584224e+00],\n",
       "       [ 1.12495567e+00],\n",
       "       [ 9.60591539e-01],\n",
       "       [ 9.96636323e-01],\n",
       "       [ 9.14454260e-01],\n",
       "       [ 8.30830234e-01],\n",
       "       [ 5.64098915e-01],\n",
       "       [ 8.13528755e-01],\n",
       "       [ 8.22179563e-01],\n",
       "       [ 7.50089995e-01],\n",
       "       [ 7.16928722e-01],\n",
       "       [ 6.69349619e-01],\n",
       "       [ 6.50606314e-01],\n",
       "       [ 7.34230340e-01],\n",
       "       [ 7.96227275e-01],\n",
       "       [ 7.24137707e-01],\n",
       "       [ 6.86651098e-01],\n",
       "       [ 9.25988580e-01],\n",
       "       [ 9.31755740e-01],\n",
       "       [ 9.72125859e-01],\n",
       "       [ 9.60591539e-01],\n",
       "       [ 9.00036291e-01],\n",
       "       [ 1.01393780e+00],\n",
       "       [ 8.38039219e-01],\n",
       "       [ 8.91385483e-01],\n",
       "       [ 8.91385483e-01],\n",
       "       [ 8.53899012e-01],\n",
       "       [ 9.90869164e-01],\n",
       "       [ 1.02691395e+00],\n",
       "       [ 9.92310988e-01],\n",
       "       [ 9.51940731e-01],\n",
       "       [ 1.00096166e+00],\n",
       "       [ 1.12351398e+00],\n",
       "       [ 1.53730808e+00],\n",
       "       [ 1.91217389e+00],\n",
       "       [ 1.83143338e+00],\n",
       "       [ 1.63246629e+00],\n",
       "       [ 1.70888133e+00],\n",
       "       [ 1.86603661e+00],\n",
       "       [ 1.83431703e+00],\n",
       "       [ 1.66130223e+00],\n",
       "       [ 1.55749307e+00],\n",
       "       [ 1.42052306e+00],\n",
       "       [ 1.57335287e+00],\n",
       "       [ 1.52289012e+00],\n",
       "       [ 1.55605125e+00],\n",
       "       [ 1.66562743e+00],\n",
       "       [ 1.73194997e+00],\n",
       "       [ 1.70599768e+00],\n",
       "       [ 1.74780949e+00],\n",
       "       [ 1.76366928e+00],\n",
       "       [ 1.67716175e+00],\n",
       "       [ 1.73771699e+00],\n",
       "       [ 1.55460943e+00],\n",
       "       [ 1.53874991e+00],\n",
       "       [ 1.60651400e+00],\n",
       "       [ 1.67716175e+00],\n",
       "       [ 1.97128732e+00],\n",
       "       [ 2.02463344e+00],\n",
       "       [ 2.10249031e+00],\n",
       "       [ 2.01886642e+00],\n",
       "       [ 2.07797984e+00],\n",
       "       [ 1.94533503e+00],\n",
       "       [ 2.07365437e+00],\n",
       "       [ 2.05635303e+00],\n",
       "       [ 2.06067823e+00],\n",
       "       [ 2.11546645e+00],\n",
       "       [ 2.08230532e+00],\n",
       "       [ 2.78589938e+00],\n",
       "       [ 3.01226058e+00],\n",
       "       [ 3.07137400e+00],\n",
       "       [ 2.94882168e+00],\n",
       "       [ 2.99640079e+00],\n",
       "       [ 2.98198309e+00],\n",
       "       [ 2.91277690e+00],\n",
       "       [ 2.88105759e+00],\n",
       "       [ 2.71525164e+00],\n",
       "       [ 3.06560698e+00],\n",
       "       [ 2.93152034e+00],\n",
       "       [ 3.57744280e+00],\n",
       "       [ 3.37415024e+00],\n",
       "       [ 3.76920104e+00],\n",
       "       [ 4.08351160e+00],\n",
       "       [ 4.40214736e+00],\n",
       "       [ 5.07113847e+00],\n",
       "       [ 4.96732986e+00],\n",
       "       [ 5.31191791e+00],\n",
       "       [ 4.95579527e+00],\n",
       "       [ 5.17638972e+00]])"
      ]
     },
     "execution_count": 35,
     "metadata": {},
     "output_type": "execute_result"
    }
   ],
   "source": [
    "scale = StandardScaler()\n",
    "df1 = scale.fit_transform(np.array(train).reshape(-1,1))\n",
    "df1"
   ]
  },
  {
   "cell_type": "code",
   "execution_count": 36,
   "metadata": {},
   "outputs": [
    {
     "data": {
      "text/plain": [
       "array([[5.92900444],\n",
       "       [5.38977478],\n",
       "       [5.53683756],\n",
       "       [5.68245825],\n",
       "       [5.46186434],\n",
       "       [5.95063153],\n",
       "       [6.06597473],\n",
       "       [6.94979298],\n",
       "       [6.6801776 ],\n",
       "       [6.70612989],\n",
       "       [6.75082562],\n",
       "       [6.25052384],\n",
       "       [5.50511797],\n",
       "       [5.88286716],\n",
       "       [5.50367587],\n",
       "       [5.17062242],\n",
       "       [5.46907319],\n",
       "       [5.67813305],\n",
       "       [5.31047581],\n",
       "       [5.48493298],\n",
       "       [5.01779234],\n",
       "       [4.8736132 ],\n",
       "       [5.23694469],\n",
       "       [5.40563402],\n",
       "       [5.59739253],\n",
       "       [5.70120169],\n",
       "       [6.02272109],\n",
       "       [5.82519583],\n",
       "       [5.74301322],\n",
       "       [5.5642314 ],\n",
       "       [5.31768521],\n",
       "       [5.61757752],\n",
       "       [5.94053903],\n",
       "       [5.99244361],\n",
       "       [6.6772945 ],\n",
       "       [6.63548242],\n",
       "       [6.24619865],\n",
       "       [6.7911956 ],\n",
       "       [7.46018671],\n",
       "       [8.00518422],\n",
       "       [7.91002601],\n",
       "       [7.9258858 ],\n",
       "       [7.74133613],\n",
       "       [7.07811233],\n",
       "       [7.39098079],\n",
       "       [7.28573008],\n",
       "       [7.37656309],\n",
       "       [7.89704986],\n",
       "       [7.61445889],\n",
       "       [7.66059617],\n",
       "       [7.20499012],\n",
       "       [7.38088829],\n",
       "       [7.18336303],\n",
       "       [7.18192148],\n",
       "       [7.00602276],\n",
       "       [7.32465852],\n",
       "       [7.26987029],\n",
       "       [7.13578365],\n",
       "       [7.4818138 ],\n",
       "       [8.02536921],\n",
       "       [7.79756591],\n",
       "       [7.65482887],\n",
       "       [7.59427335],\n",
       "       [7.50488244],\n",
       "       [7.22950031],\n",
       "       [6.81282269],\n",
       "       [6.90077206],\n",
       "       [6.27215093],\n",
       "       [6.04578973],\n",
       "       [6.44228236],\n",
       "       [5.71417783],\n",
       "       [5.56567295],\n",
       "       [6.13950584],\n",
       "       [5.20666721],\n",
       "       [4.95291162],\n",
       "       [4.62850856],\n",
       "       [4.45981924],\n",
       "       [4.04169952],\n",
       "       [4.92695933],\n",
       "       [4.92263413],\n",
       "       [5.60171773],\n",
       "       [5.52530297],\n",
       "       [5.4431209 ],\n",
       "       [5.26289698],\n",
       "       [5.41861016],\n",
       "       [4.96732986],\n",
       "       [5.2153176 ],\n",
       "       [5.15620418],\n",
       "       [4.90244914],\n",
       "       [4.29401301],\n",
       "       [4.4353085 ],\n",
       "       [4.17434461],\n",
       "       [4.08495315],\n",
       "       [4.37907872],\n",
       "       [4.58525493],\n",
       "       [4.68329679],\n",
       "       [4.63283431],\n",
       "       [4.73231772],\n",
       "       [4.33870874],\n",
       "       [4.54488495],\n",
       "       [4.46126079],\n",
       "       [4.3199653 ],\n",
       "       [4.51316536],\n",
       "       [4.30266396],\n",
       "       [4.10658024],\n",
       "       [4.16857732],\n",
       "       [4.26806072],\n",
       "       [4.28968781],\n",
       "       [4.57372089],\n",
       "       [4.67032064],\n",
       "       [4.88803145],\n",
       "       [5.1100669 ],\n",
       "       [4.90677434],\n",
       "       [4.90389069],\n",
       "       [4.58669703],\n",
       "       [4.70924908],\n",
       "       [4.66599545],\n",
       "       [4.43386695],\n",
       "       [4.40214736],\n",
       "       [4.25364303],\n",
       "       [4.29112936],\n",
       "       [3.91482228],\n",
       "       [3.99267859],\n",
       "       [3.82110562],\n",
       "       [3.4664248 ],\n",
       "       [3.78361874],\n",
       "       [3.83984906],\n",
       "       [3.89463674],\n",
       "       [3.78938604],\n",
       "       [3.91482228],\n",
       "       [3.87589385],\n",
       "       [4.13974138],\n",
       "       [4.16569367],\n",
       "       [4.40935621],\n",
       "       [4.57516244],\n",
       "       [4.53335036],\n",
       "       [5.06969692]])"
      ]
     },
     "execution_count": 36,
     "metadata": {},
     "output_type": "execute_result"
    }
   ],
   "source": [
    "df_test = scale.transform(np.array(test).reshape(-1,1))\n",
    "df_test"
   ]
  },
  {
   "cell_type": "markdown",
   "metadata": {},
   "source": [
    "## Data Sequencing\n",
    "We need to sequence our data into three dimension because recurrent neural network can only take inputs in three dimensions(matrix).\n",
    "\n",
    "Timesteps is the number of days(values) that we consider to predict the next one. The previous data will be X_train and the predicted or next data after the timestep will be the y_train"
   ]
  },
  {
   "cell_type": "code",
   "execution_count": 37,
   "metadata": {},
   "outputs": [],
   "source": [
    "#= sequencing the data: converting an array of values into a matrix dataset\n",
    "\n",
    "# def create_sequence(df, time_step=1):\n",
    "   \n",
    "#    X_train, y_train = [], []\n",
    "   \n",
    "#    for i in range(len(df)- time_step -1):\n",
    "       \n",
    "#        a = df[i: (i + time_step), 0]\n",
    "       \n",
    "#        X_train.append(a)\n",
    "       \n",
    "#        y_train.append(df[i + time_step, 0])\n",
    "    \n",
    "#     return np.array(X_train), np.array(y_train)"
   ]
  },
  {
   "cell_type": "code",
   "execution_count": 38,
   "metadata": {},
   "outputs": [],
   "source": [
    "# #reshape df into X=t, t+1, t+2, t+3... and Y=t+4\n",
    "# time_step=100\n",
    "# X_train, y_train = create_sequence(df1, time_step)\n",
    "# X_test, y_test = create_sequence(df_test, time_step)"
   ]
  },
  {
   "cell_type": "code",
   "execution_count": 39,
   "metadata": {},
   "outputs": [],
   "source": [
    "# # reshape inut to be [samples, timesteps and features] which is required for LSTM\n",
    "# X_train = X_train.reshape(X_train.shape[0], X_train.shape[1], 1)\n",
    "# X_test = X_test.reshape(X_test.shape[0], X_test.shape[1], 1)"
   ]
  },
  {
   "cell_type": "code",
   "execution_count": 40,
   "metadata": {},
   "outputs": [],
   "source": [
    "\n",
    "#= sequencing the data: converting an array of values into a matrix dataset\n",
    "\n",
    "def create_sequence(df, n_lookback, n_future):\n",
    "    X_train, y_train = [], []\n",
    "    for i in range(n_lookback, len(df) - n_future + 1):\n",
    "        X_train.append(df[i - n_lookback:i, 0:df.shape[1]]) \n",
    "        y_train.append(df[i + n_future - 1:i + n_future, 0])\n",
    "    return np.array(X_train), np.array(y_train)"
   ]
  },
  {
   "cell_type": "code",
   "execution_count": 41,
   "metadata": {},
   "outputs": [],
   "source": [
    "X_train, y_train = create_sequence(df1, 15,1)"
   ]
  },
  {
   "cell_type": "code",
   "execution_count": 42,
   "metadata": {
    "scrolled": true
   },
   "outputs": [
    {
     "name": "stdout",
     "output_type": "stream",
     "text": [
      "y_train shape:, (532, 1)\n",
      "X_train shape:, (532, 15, 1)\n"
     ]
    }
   ],
   "source": [
    "print(f\"y_train shape:, {y_train.shape}\")\n",
    "print(f\"X_train shape:, {X_train.shape}\")"
   ]
  },
  {
   "cell_type": "code",
   "execution_count": 43,
   "metadata": {},
   "outputs": [],
   "source": [
    "X_test, y_test = create_sequence(df_test, 15,1)"
   ]
  },
  {
   "cell_type": "markdown",
   "metadata": {},
   "source": [
    "### Baseline Score"
   ]
  },
  {
   "cell_type": "code",
   "execution_count": 44,
   "metadata": {},
   "outputs": [
    {
     "name": "stdout",
     "output_type": "stream",
     "text": [
      "Benchmark MAE on the test set : 5.5202\n"
     ]
    }
   ],
   "source": [
    "# We here decide to predict the mean of the train set y_train\n",
    "y_pred = np.mean([_ for elt in y_train for _ in elt])\n",
    "bench_res = np.mean(np.abs([_-y_pred for elt in y_test for _ in elt]))\n",
    "\n",
    "print(f'Benchmark MAE on the test set : {bench_res:.4f}')"
   ]
  },
  {
   "cell_type": "markdown",
   "metadata": {},
   "source": [
    "### LSTM Model"
   ]
  },
  {
   "cell_type": "code",
   "execution_count": 45,
   "metadata": {},
   "outputs": [],
   "source": [
    "def init_model():\n",
    "    \n",
    "    model = Sequential()\n",
    "    model.add(LSTM(50, return_sequences=True, input_shape=(X_train.shape[1], X_train.shape[2])))\n",
    "    model.add(LSTM(40, return_sequences=True, activation='tanh'))\n",
    "    model.add(LSTM(30, return_sequences=True, activation='tanh'))\n",
    "    model.add(Dense(5, activation='relu'))\n",
    "    model.add(Dropout(0.2))\n",
    "    model.add(Dense(1, activation='linear'))\n",
    "    model.compile(loss='mse', \n",
    "                  optimizer=RMSprop(learning_rate=0.0003), \n",
    "                  metrics=['mae'])\n",
    "    \n",
    "    return model\n"
   ]
  },
  {
   "cell_type": "code",
   "execution_count": 46,
   "metadata": {
    "scrolled": true
   },
   "outputs": [
    {
     "name": "stdout",
     "output_type": "stream",
     "text": [
      "Model: \"sequential_1\"\n",
      "_________________________________________________________________\n",
      "Layer (type)                 Output Shape              Param #   \n",
      "=================================================================\n",
      "lstm_2 (LSTM)                (None, 15, 50)            10400     \n",
      "_________________________________________________________________\n",
      "lstm_3 (LSTM)                (None, 15, 40)            14560     \n",
      "_________________________________________________________________\n",
      "lstm_4 (LSTM)                (None, 15, 30)            8520      \n",
      "_________________________________________________________________\n",
      "dense_2 (Dense)              (None, 15, 5)             155       \n",
      "_________________________________________________________________\n",
      "dropout_1 (Dropout)          (None, 15, 5)             0         \n",
      "_________________________________________________________________\n",
      "dense_3 (Dense)              (None, 15, 1)             6         \n",
      "=================================================================\n",
      "Total params: 33,641\n",
      "Trainable params: 33,641\n",
      "Non-trainable params: 0\n",
      "_________________________________________________________________\n"
     ]
    }
   ],
   "source": [
    "model2 = init_model()\n",
    "model2.summary()\n"
   ]
  },
  {
   "cell_type": "code",
   "execution_count": 47,
   "metadata": {
    "scrolled": true
   },
   "outputs": [
    {
     "name": "stdout",
     "output_type": "stream",
     "text": [
      "Epoch 1/1000\n",
      "14/14 [==============================] - 7s 120ms/step - loss: 0.2500 - mae: 0.4408 - val_loss: 4.0975 - val_mae: 1.6049\n",
      "Epoch 2/1000\n",
      "14/14 [==============================] - 1s 43ms/step - loss: 0.1819 - mae: 0.3646 - val_loss: 4.0804 - val_mae: 1.6131\n",
      "Epoch 3/1000\n",
      "14/14 [==============================] - 1s 49ms/step - loss: 0.1227 - mae: 0.2801 - val_loss: 4.0615 - val_mae: 1.6177\n",
      "Epoch 4/1000\n",
      "14/14 [==============================] - 1s 50ms/step - loss: 0.1229 - mae: 0.2814 - val_loss: 4.0568 - val_mae: 1.6183\n",
      "Epoch 5/1000\n",
      "14/14 [==============================] - 1s 46ms/step - loss: 0.1129 - mae: 0.2647 - val_loss: 4.0418 - val_mae: 1.6184\n",
      "Epoch 6/1000\n",
      "14/14 [==============================] - 1s 46ms/step - loss: 0.1071 - mae: 0.2537 - val_loss: 4.0358 - val_mae: 1.6157\n",
      "Epoch 7/1000\n",
      "14/14 [==============================] - 1s 49ms/step - loss: 0.0945 - mae: 0.2317 - val_loss: 4.0323 - val_mae: 1.6155\n",
      "Epoch 8/1000\n",
      "14/14 [==============================] - 1s 48ms/step - loss: 0.0864 - mae: 0.2174 - val_loss: 4.0517 - val_mae: 1.6194\n",
      "Epoch 9/1000\n",
      "14/14 [==============================] - 1s 45ms/step - loss: 0.0886 - mae: 0.2176 - val_loss: 4.0679 - val_mae: 1.6213\n",
      "Epoch 10/1000\n",
      "14/14 [==============================] - 1s 46ms/step - loss: 0.0866 - mae: 0.2139 - val_loss: 4.0832 - val_mae: 1.6235\n",
      "Epoch 11/1000\n",
      "14/14 [==============================] - 1s 45ms/step - loss: 0.0764 - mae: 0.1987 - val_loss: 4.1076 - val_mae: 1.6299\n",
      "Epoch 12/1000\n",
      "14/14 [==============================] - 1s 49ms/step - loss: 0.0720 - mae: 0.1928 - val_loss: 4.1262 - val_mae: 1.6334\n",
      "Restoring model weights from the end of the best epoch.\n",
      "Epoch 00012: early stopping\n"
     ]
    }
   ],
   "source": [
    "es = EarlyStopping(monitor='val_loss', mode='min', verbose=1, patience=5, restore_best_weights=True)\n",
    "\n",
    "history = model2.fit(X_train, y_train,validation_split=(0.2),epochs=1000, batch_size=32,callbacks=[es], verbose=1)"
   ]
  },
  {
   "cell_type": "code",
   "execution_count": 48,
   "metadata": {
    "scrolled": true
   },
   "outputs": [
    {
     "data": {
      "text/plain": [
       "[<matplotlib.lines.Line2D at 0x7ff141d4bf10>]"
      ]
     },
     "execution_count": 48,
     "metadata": {},
     "output_type": "execute_result"
    },
    {
     "data": {
      "image/png": "[encoded data removed]",
      "text/plain": [
       "<Figure size 432x288 with 1 Axes>"
      ]
     },
     "metadata": {
      "needs_background": "light"
     },
     "output_type": "display_data"
    }
   ],
   "source": [
    "plt.plot(history.history['loss'])\n",
    "plt.plot(history.history['mae'])"
   ]
  },
  {
   "cell_type": "code",
   "execution_count": 49,
   "metadata": {
    "scrolled": true
   },
   "outputs": [
    {
     "name": "stdout",
     "output_type": "stream",
     "text": [
      "MAE on the test set : 5.4518, or 0.99 times the benchmark\n"
     ]
    }
   ],
   "source": [
    "res = model2.evaluate(X_test, y_test, verbose=0)\n",
    "\n",
    "print(f'MAE on the test set : {res[1]:.4f}, or {res[1]/bench_res:.2f} times the benchmark')\n"
   ]
  },
  {
   "cell_type": "markdown",
   "metadata": {},
   "source": [
    "### Prediction"
   ]
  },
  {
   "cell_type": "code",
   "execution_count": 50,
   "metadata": {
    "collapsed": true
   },
   "outputs": [
    {
     "data": {
      "text/plain": [
       "array([[[-0.02780174],\n",
       "        [-0.02240036],\n",
       "        [-0.01524328],\n",
       "        ...,\n",
       "        [ 0.12948392],\n",
       "        [ 0.13371873],\n",
       "        [ 0.13694972]],\n",
       "\n",
       "       [[-0.02797457],\n",
       "        [-0.02269844],\n",
       "        [-0.01558484],\n",
       "        ...,\n",
       "        [ 0.1290433 ],\n",
       "        [ 0.13336058],\n",
       "        [ 0.13662934]],\n",
       "\n",
       "       [[-0.02792484],\n",
       "        [-0.02259069],\n",
       "        [-0.01544872],\n",
       "        ...,\n",
       "        [ 0.12891936],\n",
       "        [ 0.1332277 ],\n",
       "        [ 0.13656214]],\n",
       "\n",
       "       ...,\n",
       "\n",
       "       [[-0.02830124],\n",
       "        [-0.02375106],\n",
       "        [-0.01710052],\n",
       "        ...,\n",
       "        [ 0.12796162],\n",
       "        [ 0.1327893 ],\n",
       "        [ 0.1365921 ]],\n",
       "\n",
       "       [[-0.02830124],\n",
       "        [-0.02379895],\n",
       "        [-0.01719492],\n",
       "        ...,\n",
       "        [ 0.12783955],\n",
       "        [ 0.13273808],\n",
       "        [ 0.13659336]],\n",
       "\n",
       "       [[-0.02916001],\n",
       "        [-0.02413428],\n",
       "        [-0.0175511 ],\n",
       "        ...,\n",
       "        [ 0.12754712],\n",
       "        [ 0.13254894],\n",
       "        [ 0.13644391]]], dtype=float32)"
      ]
     },
     "execution_count": 50,
     "metadata": {},
     "output_type": "execute_result"
    }
   ],
   "source": [
    "y_pred = model2.predict(X_test)\n",
    "y_pred"
   ]
  }
 ],
 "metadata": {
  "kernelspec": {
   "display_name": "Python 3",
   "language": "python",
   "name": "python3"
  },
  "language_info": {
   "codemirror_mode": {
    "name": "ipython",
    "version": 3
   },
   "file_extension": ".py",
   "mimetype": "text/x-python",
   "name": "python",
   "nbconvert_exporter": "python",
   "pygments_lexer": "ipython3",
   "version": "3.8.6"
  }
 },
 "nbformat": 4,
 "nbformat_minor": 4
}
